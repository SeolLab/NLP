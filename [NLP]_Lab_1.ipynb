{
  "cells": [
    {
      "cell_type": "markdown",
      "metadata": {
        "id": "sF0BmaZ-1zmk"
      },
      "source": [
        "#Analyzing Text Data\n",
        "## Load relevent Packages"
      ]
    },
    {
      "cell_type": "code",
      "execution_count": null,
      "metadata": {
        "colab": {
          "base_uri": "https://localhost:8080/"
        },
        "id": "lG40Q87R1zmm",
        "outputId": "0d1c57ce-5229-4a13-a188-c62864416431"
      },
      "outputs": [
        {
          "name": "stderr",
          "output_type": "stream",
          "text": [
            "[nltk_data] Downloading package punkt to /root/nltk_data...\n",
            "[nltk_data]   Unzipping tokenizers/punkt.zip.\n",
            "[nltk_data] Downloading package stopwords to /root/nltk_data...\n",
            "[nltk_data]   Unzipping corpora/stopwords.zip.\n",
            "[nltk_data] Downloading package omw-1.4 to /root/nltk_data...\n",
            "[nltk_data] Downloading package wordnet to /root/nltk_data...\n",
            "[nltk_data] Downloading package averaged_perceptron_tagger to\n",
            "[nltk_data]     /root/nltk_data...\n",
            "[nltk_data]   Unzipping taggers/averaged_perceptron_tagger.zip.\n"
          ]
        },
        {
          "data": {
            "text/plain": [
              "True"
            ]
          },
          "execution_count": 5,
          "metadata": {},
          "output_type": "execute_result"
        }
      ],
      "source": [
        "# Import spacy\n",
        "import spacy\n",
        "\n",
        "# Loading NLTK module\n",
        "import nltk\n",
        "\n",
        "# downloading punkt\n",
        "nltk.download('punkt')\n",
        "\n",
        "# downloading stopwords\n",
        "nltk.download('stopwords')\n",
        "\n",
        "# downloading omw-1.4\n",
        "nltk.download('omw-1.4')\n",
        "\n",
        "# downloading wordnet\n",
        "nltk.download('wordnet')\n",
        "\n",
        "# downloading average_perception_tagger\n",
        "nltk.download('averaged_perceptron_tagger')"
      ]
    },
    {
      "cell_type": "markdown",
      "metadata": {
        "id": "hFLNnmbs1zmm"
      },
      "source": [
        "## Tokenization"
      ]
    },
    {
      "cell_type": "code",
      "execution_count": null,
      "metadata": {
        "colab": {
          "base_uri": "https://localhost:8080/"
        },
        "id": "YTtW6Iuq1zmn",
        "outputId": "8022871e-c253-4295-bb97-e98fcdf9f8ea"
      },
      "outputs": [
        {
          "name": "stdout",
          "output_type": "stream",
          "text": [
            "['Taj Mahal is one of the beautiful monuments.', 'It is one of the wonders of the world.', 'It was built by Shah Jahan in 1631 in memory of his third beloved wife Mumtaj Mahal.']\n"
          ]
        }
      ],
      "source": [
        "# Sentence Tokenization\n",
        "from nltk.tokenize import sent_tokenize\n",
        "\n",
        "paragraph=\"\"\"Taj Mahal is one of the beautiful monuments. It is one of the wonders of the world. It was built by Shah Jahan in 1631 in memory of his third beloved wife Mumtaj Mahal.\"\"\"\n",
        "\n",
        "tokenized_sentences=sent_tokenize(paragraph)\n",
        "print(tokenized_sentences)"
      ]
    },
    {
      "cell_type": "code",
      "execution_count": null,
      "metadata": {
        "colab": {
          "base_uri": "https://localhost:8080/"
        },
        "id": "HiuBT-jm1zmn",
        "outputId": "c6f95af9-ee72-4630-a30e-6021d0d34837"
      },
      "outputs": [
        {
          "name": "stdout",
          "output_type": "stream",
          "text": [
            "['Taj Mahal is one of the beautiful monuments.', 'It is one of the wonders of the world.', 'It was built by Shah Jahan in 1631 in memory of his third beloved wife Mumtaj Mahal.']\n"
          ]
        }
      ],
      "source": [
        "# Loading english language model\n",
        "nlp = spacy.load(\"en_core_web_sm\")\n",
        "\n",
        "# Append the sentencizer pipe to the nlp pipeline\n",
        "nlp.add_pipe('sentencizer')\n",
        "\n",
        "paragraph = \"\"\"Taj Mahal is one of the beautiful monuments. It is one of the wonders of the world. It was built by Shah Jahan in 1631 in memory of his third beloved wife Mumtaj Mahal.\"\"\"\n",
        "\n",
        "# Create nlp Object to handle linguistic annotations in a documents.\n",
        "nlp_doc = nlp(paragraph)\n",
        "\n",
        "# Generate list of tokenized sentence\n",
        "tokenized_sentences = []\n",
        "for sentence in nlp_doc.sents:\n",
        "    tokenized_sentences.append(sentence.text)\n",
        "print(tokenized_sentences)"
      ]
    },
    {
      "cell_type": "code",
      "execution_count": null,
      "metadata": {
        "colab": {
          "base_uri": "https://localhost:8080/"
        },
        "id": "nscR6b8g1zmn",
        "outputId": "a6928600-ecd0-45f6-855c-4abe39edae06"
      },
      "outputs": [
        {
          "name": "stdout",
          "output_type": "stream",
          "text": [
            "['Taj', 'Mahal', 'is', 'one', 'of', 'the', 'beautiful', 'monuments', '.', 'It', 'is', 'one', 'of', 'the', 'wonders', 'of', 'the', 'world', '.', 'It', 'was', 'built', 'by', 'Shah', 'Jahan', 'in', '1631', 'in', 'memory', 'of', 'his', 'third', 'beloved', 'wife', 'Mumtaj', 'Mahal', '.']\n"
          ]
        }
      ],
      "source": [
        "# Import nltk word_tokenize method\n",
        "from nltk.tokenize import word_tokenize\n",
        "\n",
        "# Split paragraph into words\n",
        "tokenized_words=word_tokenize(paragraph)\n",
        "print(tokenized_words)"
      ]
    },
    {
      "cell_type": "code",
      "execution_count": null,
      "metadata": {
        "colab": {
          "base_uri": "https://localhost:8080/"
        },
        "id": "2xk4p7D_1zmo",
        "outputId": "d5a44bf4-d74f-4973-f41b-387bbbcb1ee2"
      },
      "outputs": [
        {
          "name": "stdout",
          "output_type": "stream",
          "text": [
            "['Taj', 'Mahal', 'is', 'one', 'of', 'the', 'beautiful', 'monuments', '.', 'It', 'is', 'one', 'of', 'the', 'wonders', 'of', 'the', 'world', '.', 'It', 'was', 'built', 'by', 'Shah', 'Jahan', 'in', '1631', 'in', 'memory', 'of', 'his', 'third', 'beloved', 'wife', 'Mumtaj', 'Mahal', '.']\n"
          ]
        }
      ],
      "source": [
        "# Loading english language model\n",
        "nlp = spacy.load(\"en_core_web_sm\")\n",
        "\n",
        "paragraph = \"\"\"Taj Mahal is one of the beautiful monuments. It is one of the wonders of the world. It was built by Shah Jahan in 1631 in memory of his third beloved wife Mumtaj Mahal.\"\"\"\n",
        "\n",
        "# Create nlp Object to handle linguistic annotations in a documents.\n",
        "my_doc = nlp(paragraph)\n",
        "\n",
        "# tokenize paragraph into words\n",
        "tokenized_words = []\n",
        "for token in my_doc:\n",
        "    tokenized_words.append(token.text)\n",
        "print(tokenized_words)"
      ]
    },
    {
      "cell_type": "code",
      "execution_count": null,
      "metadata": {
        "colab": {
          "base_uri": "https://localhost:8080/"
        },
        "id": "a_L70u5y1zmo",
        "outputId": "5d173491-9f68-4fb6-c89d-afdce72c8598"
      },
      "outputs": [
        {
          "data": {
            "text/plain": [
              "[('of', 4), ('the', 3), ('.', 3), ('Mahal', 2), ('is', 2)]"
            ]
          },
          "execution_count": 6,
          "metadata": {},
          "output_type": "execute_result"
        }
      ],
      "source": [
        "# Import frequency distribution\n",
        "from nltk.probability import FreqDist\n",
        "\n",
        "# Find frequency distribution of paragraph\n",
        "fdist = FreqDist(tokenized_words)\n",
        "\n",
        "# Check top 5 common words\n",
        "fdist.most_common(5)"
      ]
    },
    {
      "cell_type": "code",
      "execution_count": null,
      "metadata": {
        "colab": {
          "base_uri": "https://localhost:8080/",
          "height": 518
        },
        "id": "ZbB7o_911zmp",
        "outputId": "df7e1540-9a6f-4345-d95c-3fc958c0718a"
      },
      "outputs": [
        {
          "data": {
            "image/png": "[encoded data removed]",
            "text/plain": [
              "<Figure size 640x480 with 1 Axes>"
            ]
          },
          "metadata": {},
          "output_type": "display_data"
        }
      ],
      "source": [
        "# Import matplotlib\n",
        "import matplotlib.pyplot as plt\n",
        "\n",
        "# Plot Frequency Distribution\n",
        "fdist.plot(20, cumulative=False)\n",
        "plt.show()"
      ]
    },
    {
      "cell_type": "markdown",
      "metadata": {
        "id": "CCPSXWQG1zmp"
      },
      "source": [
        "## Stopwords"
      ]
    },
    {
      "cell_type": "code",
      "execution_count": null,
      "metadata": {
        "colab": {
          "base_uri": "https://localhost:8080/"
        },
        "id": "xnKZtTg8cESS",
        "outputId": "3a6e4119-3d2a-452d-cb3e-76e5efdc88db"
      },
      "outputs": [
        {
          "name": "stdout",
          "output_type": "stream",
          "text": [
            "{'ain', \"doesn't\", 'that', 'we', 'against', 'before', 'aren', 'she', 'too', 'myself', 'our', 'i', 'himself', 'her', 'doing', \"that'll\", 'hadn', \"hasn't\", 'out', 'they', 'by', 'needn', 'just', 'over', 'down', 'why', 'other', 'few', \"won't\", 'ours', 'themselves', 'but', 'only', 'yours', 'because', 'been', 'through', \"should've\", \"couldn't\", 'if', 'couldn', 'then', 'about', 'do', \"shouldn't\", 'will', 'wasn', 'own', 'are', 't', 'most', 'whom', 'for', 'once', 'an', 'of', 'it', 'these', 'ourselves', \"she's\", 'all', 'being', 'won', \"wasn't\", 'here', 'which', 'during', 'than', 'further', 'mightn', 'such', 'theirs', \"weren't\", 'on', 'as', 'he', 'shan', 'more', 'them', 'their', 'its', 'until', 'had', 'some', \"don't\", 'same', 'in', 'shouldn', \"mightn't\", 'wouldn', \"you'll\", 'this', 'those', \"mustn't\", 'again', 'can', 'mustn', 'was', 'who', 'any', 'should', 'off', \"aren't\", 'into', 'didn', 'weren', 'isn', 'am', 'up', 'above', 'while', 'below', 'each', 'you', 'herself', 'your', 'yourself', 'nor', \"wouldn't\", \"you've\", 'at', 've', 'both', 's', 'my', 'haven', 'now', 'o', \"needn't\", 'what', 'and', 'having', 'between', 'no', 'me', \"hadn't\", 'very', \"isn't\", 'when', 'from', 'him', \"didn't\", 're', 'doesn', 'y', 'be', 'with', 'where', 'has', 'so', 'under', 'does', 'there', 'itself', 'a', 'hers', 'to', 'have', 'not', 'don', 'ma', \"shan't\", 'yourselves', 'is', \"you'd\", 'how', 'did', 'll', 'or', \"haven't\", \"you're\", 'his', 'after', 'hasn', 'd', 'were', 'the', 'm', \"it's\"}\n"
          ]
        }
      ],
      "source": [
        "# import the nltk stopwords\n",
        "from nltk.corpus import stopwords\n",
        "\n",
        "# Load english stopwords list\n",
        "stopwords_set=set(stopwords.words(\"english\"))\n",
        "\n",
        "print(stopwords_set)"
      ]
    },
    {
      "cell_type": "code",
      "execution_count": null,
      "metadata": {
        "colab": {
          "base_uri": "https://localhost:8080/"
        },
        "id": "0GrCxLbs1zmp",
        "outputId": "7b8b224f-d6f2-49a9-c013-f3e73e127215"
      },
      "outputs": [
        {
          "name": "stdout",
          "output_type": "stream",
          "text": [
            "Tokenized Word List: ['Taj', 'Mahal', 'is', 'one', 'of', 'the', 'beautiful', 'monuments', '.', 'It', 'is', 'one', 'of', 'the', 'wonders', 'of', 'the', 'world', '.', 'It', 'was', 'built', 'by', 'Shah', 'Jahan', 'in', '1631', 'in', 'memory', 'of', 'his', 'third', 'beloved', 'wife', 'Mumtaj', 'Mahal', '.']\n",
            "Filtered Word List: ['Taj', 'Mahal', 'one', 'beautiful', 'monuments', '.', 'It', 'one', 'wonders', 'world', '.', 'It', 'built', 'Shah', 'Jahan', '1631', 'memory', 'third', 'beloved', 'wife', 'Mumtaj', 'Mahal', '.']\n"
          ]
        }
      ],
      "source": [
        "# Removing stopwords from text\n",
        "filtered_word_list=[]\n",
        "for word in tokenized_words:\n",
        "    # filter stopwords\n",
        "    if word not in stopwords_set:\n",
        "        filtered_word_list.append(word)\n",
        "\n",
        "# print tokenized words\n",
        "print(\"Tokenized Word List:\", tokenized_words)\n",
        "\n",
        "# print filtered words\n",
        "print(\"Filtered Word List:\", filtered_word_list)"
      ]
    },
    {
      "cell_type": "code",
      "execution_count": null,
      "metadata": {
        "colab": {
          "base_uri": "https://localhost:8080/"
        },
        "id": "9UXt8xVn1zmp",
        "outputId": "5b397ef0-13e6-417e-c12b-425bd4dcaf60"
      },
      "outputs": [
        {
          "name": "stdout",
          "output_type": "stream",
          "text": [
            "Filtered Word List: [Taj, Mahal, beautiful, monuments, ., wonders, world, ., built, Shah, Jahan, 1631, memory, beloved, wife, Mumtaj, Mahal, .]\n"
          ]
        }
      ],
      "source": [
        "# Loading english language model\n",
        "nlp = spacy.load(\"en_core_web_sm\")\n",
        "\n",
        "# text paragraph\n",
        "paragraph = \"\"\"Taj Mahal is one of the beautiful monuments. It is one of the wonders of the world. It was built by Shah Jahan in 1631 in memory of his third beloved wife Mumtaj Mahal.\"\"\"\n",
        "\n",
        "# Create nlp Object to handle linguistic annotations in a documents.\n",
        "my_doc = nlp(paragraph)\n",
        "\n",
        "# Removing stopwords from text\n",
        "filtered_token_list=[]\n",
        "for token in my_doc:\n",
        "    # filter stopwords\n",
        "    if token.is_stop==False:\n",
        "        filtered_token_list.append(token)\n",
        "\n",
        "print(\"Filtered Word List:\",filtered_token_list)"
      ]
    },
    {
      "cell_type": "markdown",
      "metadata": {
        "id": "f5Yn-XIQ1zmp"
      },
      "source": [
        "## Stemming and Lemmatization"
      ]
    },
    {
      "cell_type": "code",
      "execution_count": null,
      "metadata": {
        "colab": {
          "base_uri": "https://localhost:8080/"
        },
        "id": "veOsxXzU1zmq",
        "outputId": "569c0eb1-19ef-4e25-88c0-96f3f0cc6be3"
      },
      "outputs": [
        {
          "name": "stdout",
          "output_type": "stream",
          "text": [
            "Lemmatized Sample Word: cry\n",
            "Stemmed Sample Word: cri\n"
          ]
        }
      ],
      "source": [
        "# Import Lemmatizer\n",
        "from nltk.stem.wordnet import WordNetLemmatizer\n",
        "\n",
        "# Create lemmatizer object\n",
        "lemmatizer = WordNetLemmatizer()\n",
        "\n",
        "# Import Porter Stemmer\n",
        "from nltk.stem.porter import PorterStemmer\n",
        "\n",
        "# Create stemmer object\n",
        "stemmer = PorterStemmer()\n",
        "\n",
        "# take a sample word\n",
        "sample_word = \"crying\"\n",
        "\n",
        "print(\"Lemmatized Sample Word:\", lemmatizer.lemmatize(sample_word,\"v\"))\n",
        "\n",
        "print(\"Stemmed Sample Word:\", stemmer.stem(sample_word))"
      ]
    },
    {
      "cell_type": "code",
      "execution_count": null,
      "metadata": {
        "colab": {
          "base_uri": "https://localhost:8080/"
        },
        "id": "Id0PDtjZ1zmq",
        "outputId": "ac4afb74-3cff-49e6-fc48-0bba20f2b99f"
      },
      "outputs": [
        {
          "name": "stdout",
          "output_type": "stream",
          "text": [
            "Original Word:  cry\n",
            "Lemmatized Word:  cry\n",
            "Original Word:  cries\n",
            "Lemmatized Word:  cry\n",
            "Original Word:  crying\n",
            "Lemmatized Word:  cry\n"
          ]
        }
      ],
      "source": [
        "# Loading english language model\n",
        "nlp = spacy.load(\"en_core_web_sm\")\n",
        "\n",
        "# Create nlp Object to handle linguistic annotations in documents.\n",
        "words = nlp(\"cry cries crying\")\n",
        "\n",
        "# Find lemmatized word\n",
        "for w in words:\n",
        "    print('Original Word: ', w.text)\n",
        "    print('Lemmatized Word: ',w.lemma_)"
      ]
    },
    {
      "cell_type": "markdown",
      "metadata": {
        "id": "QxenE1_A1zmq"
      },
      "source": [
        "## PoS Tagging"
      ]
    },
    {
      "cell_type": "code",
      "execution_count": null,
      "metadata": {
        "colab": {
          "base_uri": "https://localhost:8080/"
        },
        "id": "rvCoT9mw1zmq",
        "outputId": "c94eaa9c-fbf2-4f32-edf0-3aaef5a684c3"
      },
      "outputs": [
        {
          "name": "stdout",
          "output_type": "stream",
          "text": [
            "[('Taj', 'NNP'), ('Mahal', 'NNP'), ('is', 'VBZ'), ('one', 'CD'), ('of', 'IN'), ('the', 'DT'), ('beautiful', 'JJ'), ('monument', 'NN'), ('.', '.')]\n"
          ]
        }
      ],
      "source": [
        "# import Word Tokenizer and Pos Tagger\n",
        "from nltk.tokenize import word_tokenize\n",
        "from nltk import pos_tag\n",
        "\n",
        "# Sample sentence\n",
        "sentence = \"Taj Mahal is one of the beautiful monument.\"\n",
        "\n",
        "# Tokenize the sentence\n",
        "sent_tokens = word_tokenize(sentence)\n",
        "\n",
        "# Create PoS tags\n",
        "sent_pos = pos_tag(sent_tokens)\n",
        "\n",
        "# Print tokens with PoS\n",
        "print(sent_pos)"
      ]
    },
    {
      "cell_type": "code",
      "execution_count": null,
      "metadata": {
        "colab": {
          "base_uri": "https://localhost:8080/"
        },
        "id": "DW9X8Iuv1zmq",
        "outputId": "8e0a16ca-ef63-440e-9d58-4fdad7ca8cd9"
      },
      "outputs": [
        {
          "name": "stdout",
          "output_type": "stream",
          "text": [
            "Taj PROPN\n",
            "Mahal PROPN\n",
            "is AUX\n",
            "one NUM\n",
            "of ADP\n",
            "the DET\n",
            "beautiful ADJ\n",
            "monument NOUN\n",
            ". PUNCT\n"
          ]
        }
      ],
      "source": [
        "# Loading small english language model\n",
        "nlp = spacy.load(\"en_core_web_sm\")\n",
        "\n",
        "# Create nlp Object to handle linguistic annotations in a documents.\n",
        "sentence = nlp(u\"Taj Mahal is one of the beautiful monument.\")\n",
        "\n",
        "for token in sentence:\n",
        "    print(token.text, token.pos_)"
      ]
    },
    {
      "cell_type": "markdown",
      "metadata": {
        "id": "5HvnsV5k1zmq"
      },
      "source": [
        "## Entity Recognition"
      ]
    },
    {
      "cell_type": "code",
      "execution_count": null,
      "metadata": {
        "colab": {
          "base_uri": "https://localhost:8080/"
        },
        "id": "FjmhRWq-1zmq",
        "outputId": "a7218fe9-8e6e-4cad-fbb2-e86c6715cab0"
      },
      "outputs": [
        {
          "name": "stdout",
          "output_type": "stream",
          "text": [
            "[('Taj Mahal', 'PERSON'), ('Shah Jahan', 'ORG'), ('1631', 'DATE'), ('third', 'ORDINAL'), ('Mumtaj Mahal', 'PERSON')]\n"
          ]
        }
      ],
      "source": [
        "# Load English model for tokenizer, tagger, parser, and NER\n",
        "nlp = spacy.load('en_core_web_sm')\n",
        "\n",
        "# Sample paragraph\n",
        "paragraph = \"\"\"Taj Mahal is one of the beautiful monuments. It is one of the wonders of the world. It was built by Shah Jahan in 1631 in memory of his third beloved wife Mumtaj Mahal.\"\"\"\n",
        "\n",
        "# Create nlp Object to handle linguistic annotations in documents.\n",
        "docs=nlp(paragraph)\n",
        "\n",
        "entities=[(i.text, i.label_) for i in docs.ents]\n",
        "print(entities)"
      ]
    },
    {
      "cell_type": "code",
      "execution_count": null,
      "metadata": {
        "colab": {
          "base_uri": "https://localhost:8080/",
          "height": 87
        },
        "id": "0CR6cxSp1QEV",
        "outputId": "6863174b-ccd1-4d5d-dfe7-ae42890ce12d"
      },
      "outputs": [
        {
          "data": {
            "text/html": [
              "<span class=\"tex2jax_ignore\"><div class=\"entities\" style=\"line-height: 2.5; direction: ltr\">\n",
              "<mark class=\"entity\" style=\"background: #aa9cfc; padding: 0.45em 0.6em; margin: 0 0.25em; line-height: 1; border-radius: 0.35em;\">\n",
              "    Taj Mahal\n",
              "    <span style=\"font-size: 0.8em; font-weight: bold; line-height: 1; border-radius: 0.35em; vertical-align: middle; margin-left: 0.5rem\">PERSON</span>\n",
              "</mark>\n",
              " is one of the beautiful monuments. It is one of the wonders of the world. It was built by \n",
              "<mark class=\"entity\" style=\"background: #7aecec; padding: 0.45em 0.6em; margin: 0 0.25em; line-height: 1; border-radius: 0.35em;\">\n",
              "    Shah Jahan\n",
              "    <span style=\"font-size: 0.8em; font-weight: bold; line-height: 1; border-radius: 0.35em; vertical-align: middle; margin-left: 0.5rem\">ORG</span>\n",
              "</mark>\n",
              " in \n",
              "<mark class=\"entity\" style=\"background: #bfe1d9; padding: 0.45em 0.6em; margin: 0 0.25em; line-height: 1; border-radius: 0.35em;\">\n",
              "    1631\n",
              "    <span style=\"font-size: 0.8em; font-weight: bold; line-height: 1; border-radius: 0.35em; vertical-align: middle; margin-left: 0.5rem\">DATE</span>\n",
              "</mark>\n",
              " in memory of his \n",
              "<mark class=\"entity\" style=\"background: #e4e7d2; padding: 0.45em 0.6em; margin: 0 0.25em; line-height: 1; border-radius: 0.35em;\">\n",
              "    third\n",
              "    <span style=\"font-size: 0.8em; font-weight: bold; line-height: 1; border-radius: 0.35em; vertical-align: middle; margin-left: 0.5rem\">ORDINAL</span>\n",
              "</mark>\n",
              " beloved wife \n",
              "<mark class=\"entity\" style=\"background: #aa9cfc; padding: 0.45em 0.6em; margin: 0 0.25em; line-height: 1; border-radius: 0.35em;\">\n",
              "    Mumtaj Mahal\n",
              "    <span style=\"font-size: 0.8em; font-weight: bold; line-height: 1; border-radius: 0.35em; vertical-align: middle; margin-left: 0.5rem\">PERSON</span>\n",
              "</mark>\n",
              ".</div></span>"
            ],
            "text/plain": [
              "<IPython.core.display.HTML object>"
            ]
          },
          "metadata": {},
          "output_type": "display_data"
        }
      ],
      "source": [
        "# Import display for visualizing the Entities\n",
        "from spacy import displacy\n",
        " # Visualize the entities using render function\n",
        "displacy.render(docs, style = \"ent\",jupyter = True)"
      ]
    },
    {
      "cell_type": "markdown",
      "metadata": {
        "id": "q2H49yd71zmq"
      },
      "source": [
        "## Dependency Parsing"
      ]
    },
    {
      "cell_type": "code",
      "execution_count": null,
      "metadata": {
        "colab": {
          "base_uri": "https://localhost:8080/",
          "height": 402
        },
        "id": "83iL1YY21zmr",
        "outputId": "e0b31da6-deb3-45e2-f4e3-84f167eeebe0"
      },
      "outputs": [
        {
          "data": {
            "text/html": [
              "<span class=\"tex2jax_ignore\"><svg xmlns=\"http://www.w3.org/2000/svg\" xmlns:xlink=\"http://www.w3.org/1999/xlink\" xml:lang=\"en\" id=\"906ef0f1ccc8472e86fd6a2309f08a3a-0\" class=\"displacy\" width=\"1250\" height=\"362.0\" direction=\"ltr\" style=\"max-width: none; height: 362.0px; color: #000000; background: #ffffff; font-family: Arial; direction: ltr\">\n",
              "<text class=\"displacy-token\" fill=\"currentColor\" text-anchor=\"middle\" y=\"272.0\">\n",
              "    <tspan class=\"displacy-word\" fill=\"currentColor\" x=\"50\">Taj</tspan>\n",
              "    <tspan class=\"displacy-tag\" dy=\"2em\" fill=\"currentColor\" x=\"50\">PROPN</tspan>\n",
              "</text>\n",
              "\n",
              "<text class=\"displacy-token\" fill=\"currentColor\" text-anchor=\"middle\" y=\"272.0\">\n",
              "    <tspan class=\"displacy-word\" fill=\"currentColor\" x=\"200\">Mahal</tspan>\n",
              "    <tspan class=\"displacy-tag\" dy=\"2em\" fill=\"currentColor\" x=\"200\">PROPN</tspan>\n",
              "</text>\n",
              "\n",
              "<text class=\"displacy-token\" fill=\"currentColor\" text-anchor=\"middle\" y=\"272.0\">\n",
              "    <tspan class=\"displacy-word\" fill=\"currentColor\" x=\"350\">is</tspan>\n",
              "    <tspan class=\"displacy-tag\" dy=\"2em\" fill=\"currentColor\" x=\"350\">AUX</tspan>\n",
              "</text>\n",
              "\n",
              "<text class=\"displacy-token\" fill=\"currentColor\" text-anchor=\"middle\" y=\"272.0\">\n",
              "    <tspan class=\"displacy-word\" fill=\"currentColor\" x=\"500\">one</tspan>\n",
              "    <tspan class=\"displacy-tag\" dy=\"2em\" fill=\"currentColor\" x=\"500\">NUM</tspan>\n",
              "</text>\n",
              "\n",
              "<text class=\"displacy-token\" fill=\"currentColor\" text-anchor=\"middle\" y=\"272.0\">\n",
              "    <tspan class=\"displacy-word\" fill=\"currentColor\" x=\"650\">of</tspan>\n",
              "    <tspan class=\"displacy-tag\" dy=\"2em\" fill=\"currentColor\" x=\"650\">ADP</tspan>\n",
              "</text>\n",
              "\n",
              "<text class=\"displacy-token\" fill=\"currentColor\" text-anchor=\"middle\" y=\"272.0\">\n",
              "    <tspan class=\"displacy-word\" fill=\"currentColor\" x=\"800\">the</tspan>\n",
              "    <tspan class=\"displacy-tag\" dy=\"2em\" fill=\"currentColor\" x=\"800\">DET</tspan>\n",
              "</text>\n",
              "\n",
              "<text class=\"displacy-token\" fill=\"currentColor\" text-anchor=\"middle\" y=\"272.0\">\n",
              "    <tspan class=\"displacy-word\" fill=\"currentColor\" x=\"950\">beautiful</tspan>\n",
              "    <tspan class=\"displacy-tag\" dy=\"2em\" fill=\"currentColor\" x=\"950\">ADJ</tspan>\n",
              "</text>\n",
              "\n",
              "<text class=\"displacy-token\" fill=\"currentColor\" text-anchor=\"middle\" y=\"272.0\">\n",
              "    <tspan class=\"displacy-word\" fill=\"currentColor\" x=\"1100\">monument.</tspan>\n",
              "    <tspan class=\"displacy-tag\" dy=\"2em\" fill=\"currentColor\" x=\"1100\">NOUN</tspan>\n",
              "</text>\n",
              "\n",
              "<g class=\"displacy-arrow\">\n",
              "    <path class=\"displacy-arc\" id=\"arrow-906ef0f1ccc8472e86fd6a2309f08a3a-0-0\" stroke-width=\"2px\" d=\"M70,227.0 C70,152.0 190.0,152.0 190.0,227.0\" fill=\"none\" stroke=\"currentColor\"/>\n",
              "    <text dy=\"1.25em\" style=\"font-size: 0.8em; letter-spacing: 1px\">\n",
              "        <textPath xlink:href=\"#arrow-906ef0f1ccc8472e86fd6a2309f08a3a-0-0\" class=\"displacy-label\" startOffset=\"50%\" side=\"left\" fill=\"currentColor\" text-anchor=\"middle\">compound</textPath>\n",
              "    </text>\n",
              "    <path class=\"displacy-arrowhead\" d=\"M70,229.0 L62,217.0 78,217.0\" fill=\"currentColor\"/>\n",
              "</g>\n",
              "\n",
              "<g class=\"displacy-arrow\">\n",
              "    <path class=\"displacy-arc\" id=\"arrow-906ef0f1ccc8472e86fd6a2309f08a3a-0-1\" stroke-width=\"2px\" d=\"M220,227.0 C220,152.0 340.0,152.0 340.0,227.0\" fill=\"none\" stroke=\"currentColor\"/>\n",
              "    <text dy=\"1.25em\" style=\"font-size: 0.8em; letter-spacing: 1px\">\n",
              "        <textPath xlink:href=\"#arrow-906ef0f1ccc8472e86fd6a2309f08a3a-0-1\" class=\"displacy-label\" startOffset=\"50%\" side=\"left\" fill=\"currentColor\" text-anchor=\"middle\">nsubj</textPath>\n",
              "    </text>\n",
              "    <path class=\"displacy-arrowhead\" d=\"M220,229.0 L212,217.0 228,217.0\" fill=\"currentColor\"/>\n",
              "</g>\n",
              "\n",
              "<g class=\"displacy-arrow\">\n",
              "    <path class=\"displacy-arc\" id=\"arrow-906ef0f1ccc8472e86fd6a2309f08a3a-0-2\" stroke-width=\"2px\" d=\"M370,227.0 C370,152.0 490.0,152.0 490.0,227.0\" fill=\"none\" stroke=\"currentColor\"/>\n",
              "    <text dy=\"1.25em\" style=\"font-size: 0.8em; letter-spacing: 1px\">\n",
              "        <textPath xlink:href=\"#arrow-906ef0f1ccc8472e86fd6a2309f08a3a-0-2\" class=\"displacy-label\" startOffset=\"50%\" side=\"left\" fill=\"currentColor\" text-anchor=\"middle\">attr</textPath>\n",
              "    </text>\n",
              "    <path class=\"displacy-arrowhead\" d=\"M490.0,229.0 L498.0,217.0 482.0,217.0\" fill=\"currentColor\"/>\n",
              "</g>\n",
              "\n",
              "<g class=\"displacy-arrow\">\n",
              "    <path class=\"displacy-arc\" id=\"arrow-906ef0f1ccc8472e86fd6a2309f08a3a-0-3\" stroke-width=\"2px\" d=\"M520,227.0 C520,152.0 640.0,152.0 640.0,227.0\" fill=\"none\" stroke=\"currentColor\"/>\n",
              "    <text dy=\"1.25em\" style=\"font-size: 0.8em; letter-spacing: 1px\">\n",
              "        <textPath xlink:href=\"#arrow-906ef0f1ccc8472e86fd6a2309f08a3a-0-3\" class=\"displacy-label\" startOffset=\"50%\" side=\"left\" fill=\"currentColor\" text-anchor=\"middle\">prep</textPath>\n",
              "    </text>\n",
              "    <path class=\"displacy-arrowhead\" d=\"M640.0,229.0 L648.0,217.0 632.0,217.0\" fill=\"currentColor\"/>\n",
              "</g>\n",
              "\n",
              "<g class=\"displacy-arrow\">\n",
              "    <path class=\"displacy-arc\" id=\"arrow-906ef0f1ccc8472e86fd6a2309f08a3a-0-4\" stroke-width=\"2px\" d=\"M820,227.0 C820,77.0 1095.0,77.0 1095.0,227.0\" fill=\"none\" stroke=\"currentColor\"/>\n",
              "    <text dy=\"1.25em\" style=\"font-size: 0.8em; letter-spacing: 1px\">\n",
              "        <textPath xlink:href=\"#arrow-906ef0f1ccc8472e86fd6a2309f08a3a-0-4\" class=\"displacy-label\" startOffset=\"50%\" side=\"left\" fill=\"currentColor\" text-anchor=\"middle\">det</textPath>\n",
              "    </text>\n",
              "    <path class=\"displacy-arrowhead\" d=\"M820,229.0 L812,217.0 828,217.0\" fill=\"currentColor\"/>\n",
              "</g>\n",
              "\n",
              "<g class=\"displacy-arrow\">\n",
              "    <path class=\"displacy-arc\" id=\"arrow-906ef0f1ccc8472e86fd6a2309f08a3a-0-5\" stroke-width=\"2px\" d=\"M970,227.0 C970,152.0 1090.0,152.0 1090.0,227.0\" fill=\"none\" stroke=\"currentColor\"/>\n",
              "    <text dy=\"1.25em\" style=\"font-size: 0.8em; letter-spacing: 1px\">\n",
              "        <textPath xlink:href=\"#arrow-906ef0f1ccc8472e86fd6a2309f08a3a-0-5\" class=\"displacy-label\" startOffset=\"50%\" side=\"left\" fill=\"currentColor\" text-anchor=\"middle\">amod</textPath>\n",
              "    </text>\n",
              "    <path class=\"displacy-arrowhead\" d=\"M970,229.0 L962,217.0 978,217.0\" fill=\"currentColor\"/>\n",
              "</g>\n",
              "\n",
              "<g class=\"displacy-arrow\">\n",
              "    <path class=\"displacy-arc\" id=\"arrow-906ef0f1ccc8472e86fd6a2309f08a3a-0-6\" stroke-width=\"2px\" d=\"M670,227.0 C670,2.0 1100.0,2.0 1100.0,227.0\" fill=\"none\" stroke=\"currentColor\"/>\n",
              "    <text dy=\"1.25em\" style=\"font-size: 0.8em; letter-spacing: 1px\">\n",
              "        <textPath xlink:href=\"#arrow-906ef0f1ccc8472e86fd6a2309f08a3a-0-6\" class=\"displacy-label\" startOffset=\"50%\" side=\"left\" fill=\"currentColor\" text-anchor=\"middle\">pobj</textPath>\n",
              "    </text>\n",
              "    <path class=\"displacy-arrowhead\" d=\"M1100.0,229.0 L1108.0,217.0 1092.0,217.0\" fill=\"currentColor\"/>\n",
              "</g>\n",
              "</svg></span>"
            ],
            "text/plain": [
              "<IPython.core.display.HTML object>"
            ]
          },
          "metadata": {},
          "output_type": "display_data"
        }
      ],
      "source": [
        "# Load English model for tokenizer, tagger, parser, and NER\n",
        "nlp = spacy.load('en_core_web_sm')\n",
        "\n",
        "# Sample sentence\n",
        "sentence=\"Taj Mahal is one of the beautiful monument.\"\n",
        "\n",
        "# Create nlp Object to handle linguistic annotations in a documents.\n",
        "docs=nlp(sentence)\n",
        "\n",
        "# Visualize the  using render function\n",
        "displacy.render(docs, style=\"dep\", jupyter= True, options={'distance': 150})"
      ]
    },
    {
      "cell_type": "markdown",
      "metadata": {
        "id": "Xy-xuSZH1zmr"
      },
      "source": [
        "## WordCloud"
      ]
    },
    {
      "cell_type": "code",
      "execution_count": null,
      "metadata": {
        "colab": {
          "base_uri": "https://localhost:8080/",
          "height": 499
        },
        "id": "7iBLmtMA1zmr",
        "outputId": "f3232f32-444c-4765-c348-a719f655879a"
      },
      "outputs": [
        {
          "data": {
            "image/png": "[encoded data removed]",
            "text/plain": [
              "<Figure size 800x600 with 1 Axes>"
            ]
          },
          "metadata": {},
          "output_type": "display_data"
        }
      ],
      "source": [
        "# importing all necessary modules\n",
        "from wordcloud import WordCloud\n",
        "from wordcloud import STOPWORDS\n",
        "import matplotlib.pyplot as plt\n",
        "\n",
        "stopword_list = set(STOPWORDS)\n",
        "\n",
        "paragraph=\"\"\"Taj Mahal is one of the beautiful monuments. It is one of the wonders of the world. It was built by Shah Jahan in 1631 in memory of his third beloved wife Mumtaj Mahal.\"\"\"\n",
        "\n",
        "word_cloud = WordCloud(width = 550, height = 550,\n",
        "                       background_color ='white',\n",
        "                       stopwords = stopword_list,\n",
        "                       min_font_size = 10).generate(paragraph)\n",
        "\n",
        "# Visualize the WordCloud Plot\n",
        "\n",
        "# Set wordcloud figure size\n",
        "plt.figure(figsize = (8, 6))\n",
        "# Show image\n",
        "plt.imshow(word_cloud)\n",
        "# Remove Axis\n",
        "plt.axis(\"off\")\n",
        "# show plot\n",
        "plt.show()"
      ]
    },
    {
      "cell_type": "markdown",
      "metadata": {
        "id": "CVv92oPl1zmr"
      },
      "source": [
        "## Sentiment Analysis using Text Classification\n",
        "### Classification using Bag of Words (or TF)\n",
        "#### Load the Dataset"
      ]
    },
    {
      "cell_type": "code",
      "execution_count": null,
      "metadata": {
        "colab": {
          "base_uri": "https://localhost:8080/",
          "height": 206
        },
        "id": "XGG2NDL_1zmr",
        "outputId": "6ca5269c-fe5b-4661-dd6e-71a82cbc1177"
      },
      "outputs": [
        {
          "data": {
            "application/vnd.google.colaboratory.intrinsic+json": {
              "repr_error": "'str' object has no attribute 'empty'",
              "type": "dataframe"
            },
            "text/html": [
              "\n",
              "  <div id=\"df-d8bfad43-ca4b-4522-915c-059b671edd2f\" class=\"colab-df-container\">\n",
              "    <div>\n",
              "<style scoped>\n",
              "    .dataframe tbody tr th:only-of-type {\n",
              "        vertical-align: middle;\n",
              "    }\n",
              "\n",
              "    .dataframe tbody tr th {\n",
              "        vertical-align: top;\n",
              "    }\n",
              "\n",
              "    .dataframe thead th {\n",
              "        text-align: right;\n",
              "    }\n",
              "</style>\n",
              "<table border=\"1\" class=\"dataframe\">\n",
              "  <thead>\n",
              "    <tr style=\"text-align: right;\">\n",
              "      <th></th>\n",
              "      <th>rating</th>\n",
              "      <th>date</th>\n",
              "      <th>variation</th>\n",
              "      <th>verified_reviews</th>\n",
              "      <th>feedback</th>\n",
              "    </tr>\n",
              "  </thead>\n",
              "  <tbody>\n",
              "    <tr>\n",
              "      <th>3145</th>\n",
              "      <td>5</td>\n",
              "      <td>30-Jul-18</td>\n",
              "      <td>Black  Dot</td>\n",
              "      <td>Perfect for kids, adults and everyone in betwe...</td>\n",
              "      <td>1</td>\n",
              "    </tr>\n",
              "    <tr>\n",
              "      <th>3146</th>\n",
              "      <td>5</td>\n",
              "      <td>30-Jul-18</td>\n",
              "      <td>Black  Dot</td>\n",
              "      <td>Listening to music, searching locations, check...</td>\n",
              "      <td>1</td>\n",
              "    </tr>\n",
              "    <tr>\n",
              "      <th>3147</th>\n",
              "      <td>5</td>\n",
              "      <td>30-Jul-18</td>\n",
              "      <td>Black  Dot</td>\n",
              "      <td>I do love these things, i have them running my...</td>\n",
              "      <td>1</td>\n",
              "    </tr>\n",
              "    <tr>\n",
              "      <th>3148</th>\n",
              "      <td>5</td>\n",
              "      <td>30-Jul-18</td>\n",
              "      <td>White  Dot</td>\n",
              "      <td>Only complaint I have is that the sound qualit...</td>\n",
              "      <td>1</td>\n",
              "    </tr>\n",
              "    <tr>\n",
              "      <th>3149</th>\n",
              "      <td>4</td>\n",
              "      <td>29-Jul-18</td>\n",
              "      <td>Black  Dot</td>\n",
              "      <td>Good</td>\n",
              "      <td>1</td>\n",
              "    </tr>\n",
              "  </tbody>\n",
              "</table>\n",
              "</div>\n",
              "    <div class=\"colab-df-buttons\">\n",
              "\n",
              "  <div class=\"colab-df-container\">\n",
              "    <button class=\"colab-df-convert\" onclick=\"convertToInteractive('df-d8bfad43-ca4b-4522-915c-059b671edd2f')\"\n",
              "            title=\"Convert this dataframe to an interactive table.\"\n",
              "            style=\"display:none;\">\n",
              "\n",
              "  <svg xmlns=\"http://www.w3.org/2000/svg\" height=\"24px\" viewBox=\"0 -960 960 960\">\n",
              "    <path d=\"M120-120v-720h720v720H120Zm60-500h600v-160H180v160Zm220 220h160v-160H400v160Zm0 220h160v-160H400v160ZM180-400h160v-160H180v160Zm440 0h160v-160H620v160ZM180-180h160v-160H180v160Zm440 0h160v-160H620v160Z\"/>\n",
              "  </svg>\n",
              "    </button>\n",
              "\n",
              "  <style>\n",
              "    .colab-df-container {\n",
              "      display:flex;\n",
              "      gap: 12px;\n",
              "    }\n",
              "\n",
              "    .colab-df-convert {\n",
              "      background-color: #E8F0FE;\n",
              "      border: none;\n",
              "      border-radius: 50%;\n",
              "      cursor: pointer;\n",
              "      display: none;\n",
              "      fill: #1967D2;\n",
              "      height: 32px;\n",
              "      padding: 0 0 0 0;\n",
              "      width: 32px;\n",
              "    }\n",
              "\n",
              "    .colab-df-convert:hover {\n",
              "      background-color: #E2EBFA;\n",
              "      box-shadow: 0px 1px 2px rgba(60, 64, 67, 0.3), 0px 1px 3px 1px rgba(60, 64, 67, 0.15);\n",
              "      fill: #174EA6;\n",
              "    }\n",
              "\n",
              "    .colab-df-buttons div {\n",
              "      margin-bottom: 4px;\n",
              "    }\n",
              "\n",
              "    [theme=dark] .colab-df-convert {\n",
              "      background-color: #3B4455;\n",
              "      fill: #D2E3FC;\n",
              "    }\n",
              "\n",
              "    [theme=dark] .colab-df-convert:hover {\n",
              "      background-color: #434B5C;\n",
              "      box-shadow: 0px 1px 3px 1px rgba(0, 0, 0, 0.15);\n",
              "      filter: drop-shadow(0px 1px 2px rgba(0, 0, 0, 0.3));\n",
              "      fill: #FFFFFF;\n",
              "    }\n",
              "  </style>\n",
              "\n",
              "    <script>\n",
              "      const buttonEl =\n",
              "        document.querySelector('#df-d8bfad43-ca4b-4522-915c-059b671edd2f button.colab-df-convert');\n",
              "      buttonEl.style.display =\n",
              "        google.colab.kernel.accessAllowed ? 'block' : 'none';\n",
              "\n",
              "      async function convertToInteractive(key) {\n",
              "        const element = document.querySelector('#df-d8bfad43-ca4b-4522-915c-059b671edd2f');\n",
              "        const dataTable =\n",
              "          await google.colab.kernel.invokeFunction('convertToInteractive',\n",
              "                                                    [key], {});\n",
              "        if (!dataTable) return;\n",
              "\n",
              "        const docLinkHtml = 'Like what you see? Visit the ' +\n",
              "          '<a target=\"_blank\" href=https://colab.research.google.com/notebooks/data_table.ipynb>data table notebook</a>'\n",
              "          + ' to learn more about interactive tables.';\n",
              "        element.innerHTML = '';\n",
              "        dataTable['output_type'] = 'display_data';\n",
              "        await google.colab.output.renderOutput(dataTable, element);\n",
              "        const docLink = document.createElement('div');\n",
              "        docLink.innerHTML = docLinkHtml;\n",
              "        element.appendChild(docLink);\n",
              "      }\n",
              "    </script>\n",
              "  </div>\n",
              "\n",
              "\n",
              "<div id=\"df-0ffbf720-0ea5-4077-aa64-0929011a4fc6\">\n",
              "  <button class=\"colab-df-quickchart\" onclick=\"quickchart('df-0ffbf720-0ea5-4077-aa64-0929011a4fc6')\"\n",
              "            title=\"Suggest charts\"\n",
              "            style=\"display:none;\">\n",
              "\n",
              "<svg xmlns=\"http://www.w3.org/2000/svg\" height=\"24px\"viewBox=\"0 0 24 24\"\n",
              "     width=\"24px\">\n",
              "    <g>\n",
              "        <path d=\"M19 3H5c-1.1 0-2 .9-2 2v14c0 1.1.9 2 2 2h14c1.1 0 2-.9 2-2V5c0-1.1-.9-2-2-2zM9 17H7v-7h2v7zm4 0h-2V7h2v10zm4 0h-2v-4h2v4z\"/>\n",
              "    </g>\n",
              "</svg>\n",
              "  </button>\n",
              "\n",
              "<style>\n",
              "  .colab-df-quickchart {\n",
              "      --bg-color: #E8F0FE;\n",
              "      --fill-color: #1967D2;\n",
              "      --hover-bg-color: #E2EBFA;\n",
              "      --hover-fill-color: #174EA6;\n",
              "      --disabled-fill-color: #AAA;\n",
              "      --disabled-bg-color: #DDD;\n",
              "  }\n",
              "\n",
              "  [theme=dark] .colab-df-quickchart {\n",
              "      --bg-color: #3B4455;\n",
              "      --fill-color: #D2E3FC;\n",
              "      --hover-bg-color: #434B5C;\n",
              "      --hover-fill-color: #FFFFFF;\n",
              "      --disabled-bg-color: #3B4455;\n",
              "      --disabled-fill-color: #666;\n",
              "  }\n",
              "\n",
              "  .colab-df-quickchart {\n",
              "    background-color: var(--bg-color);\n",
              "    border: none;\n",
              "    border-radius: 50%;\n",
              "    cursor: pointer;\n",
              "    display: none;\n",
              "    fill: var(--fill-color);\n",
              "    height: 32px;\n",
              "    padding: 0;\n",
              "    width: 32px;\n",
              "  }\n",
              "\n",
              "  .colab-df-quickchart:hover {\n",
              "    background-color: var(--hover-bg-color);\n",
              "    box-shadow: 0 1px 2px rgba(60, 64, 67, 0.3), 0 1px 3px 1px rgba(60, 64, 67, 0.15);\n",
              "    fill: var(--button-hover-fill-color);\n",
              "  }\n",
              "\n",
              "  .colab-df-quickchart-complete:disabled,\n",
              "  .colab-df-quickchart-complete:disabled:hover {\n",
              "    background-color: var(--disabled-bg-color);\n",
              "    fill: var(--disabled-fill-color);\n",
              "    box-shadow: none;\n",
              "  }\n",
              "\n",
              "  .colab-df-spinner {\n",
              "    border: 2px solid var(--fill-color);\n",
              "    border-color: transparent;\n",
              "    border-bottom-color: var(--fill-color);\n",
              "    animation:\n",
              "      spin 1s steps(1) infinite;\n",
              "  }\n",
              "\n",
              "  @keyframes spin {\n",
              "    0% {\n",
              "      border-color: transparent;\n",
              "      border-bottom-color: var(--fill-color);\n",
              "      border-left-color: var(--fill-color);\n",
              "    }\n",
              "    20% {\n",
              "      border-color: transparent;\n",
              "      border-left-color: var(--fill-color);\n",
              "      border-top-color: var(--fill-color);\n",
              "    }\n",
              "    30% {\n",
              "      border-color: transparent;\n",
              "      border-left-color: var(--fill-color);\n",
              "      border-top-color: var(--fill-color);\n",
              "      border-right-color: var(--fill-color);\n",
              "    }\n",
              "    40% {\n",
              "      border-color: transparent;\n",
              "      border-right-color: var(--fill-color);\n",
              "      border-top-color: var(--fill-color);\n",
              "    }\n",
              "    60% {\n",
              "      border-color: transparent;\n",
              "      border-right-color: var(--fill-color);\n",
              "    }\n",
              "    80% {\n",
              "      border-color: transparent;\n",
              "      border-right-color: var(--fill-color);\n",
              "      border-bottom-color: var(--fill-color);\n",
              "    }\n",
              "    90% {\n",
              "      border-color: transparent;\n",
              "      border-bottom-color: var(--fill-color);\n",
              "    }\n",
              "  }\n",
              "</style>\n",
              "\n",
              "  <script>\n",
              "    async function quickchart(key) {\n",
              "      const quickchartButtonEl =\n",
              "        document.querySelector('#' + key + ' button');\n",
              "      quickchartButtonEl.disabled = true;  // To prevent multiple clicks.\n",
              "      quickchartButtonEl.classList.add('colab-df-spinner');\n",
              "      try {\n",
              "        const charts = await google.colab.kernel.invokeFunction(\n",
              "            'suggestCharts', [key], {});\n",
              "      } catch (error) {\n",
              "        console.error('Error during call to suggestCharts:', error);\n",
              "      }\n",
              "      quickchartButtonEl.classList.remove('colab-df-spinner');\n",
              "      quickchartButtonEl.classList.add('colab-df-quickchart-complete');\n",
              "    }\n",
              "    (() => {\n",
              "      let quickchartButtonEl =\n",
              "        document.querySelector('#df-0ffbf720-0ea5-4077-aa64-0929011a4fc6 button');\n",
              "      quickchartButtonEl.style.display =\n",
              "        google.colab.kernel.accessAllowed ? 'block' : 'none';\n",
              "    })();\n",
              "  </script>\n",
              "</div>\n",
              "\n",
              "    </div>\n",
              "  </div>\n"
            ],
            "text/plain": [
              "      rating       date   variation  \\\n",
              "3145       5  30-Jul-18  Black  Dot   \n",
              "3146       5  30-Jul-18  Black  Dot   \n",
              "3147       5  30-Jul-18  Black  Dot   \n",
              "3148       5  30-Jul-18  White  Dot   \n",
              "3149       4  29-Jul-18  Black  Dot   \n",
              "\n",
              "                                       verified_reviews  feedback  \n",
              "3145  Perfect for kids, adults and everyone in betwe...         1  \n",
              "3146  Listening to music, searching locations, check...         1  \n",
              "3147  I do love these things, i have them running my...         1  \n",
              "3148  Only complaint I have is that the sound qualit...         1  \n",
              "3149                                               Good         1  "
            ]
          },
          "execution_count": 19,
          "metadata": {},
          "output_type": "execute_result"
        }
      ],
      "source": [
        "# Import libraries\n",
        "import pandas as pd\n",
        "\n",
        "# read the dataset\n",
        "copus_url = 'https://raw.githubusercontent.com/sharmaroshan/Amazon-Alexa-Reviews/master/amazon_alexa.tsv'\n",
        "df=pd.read_csv(copus_url, sep='\\t')\n",
        "\n",
        "# Show top 5-records\n",
        "df.tail()"
      ]
    },
    {
      "cell_type": "markdown",
      "metadata": {
        "id": "0NSOzuOF1zmr"
      },
      "source": [
        "#### Explore the dataset"
      ]
    },
    {
      "cell_type": "code",
      "execution_count": null,
      "metadata": {
        "colab": {
          "base_uri": "https://localhost:8080/",
          "height": 450
        },
        "id": "InFRWbIz1zmr",
        "outputId": "6685cb28-eda3-479e-ec71-422be1233b59"
      },
      "outputs": [
        {
          "data": {
            "image/png": "[encoded data removed]",
            "text/plain": [
              "<Figure size 640x480 with 1 Axes>"
            ]
          },
          "metadata": {},
          "output_type": "display_data"
        }
      ],
      "source": [
        "# Import seaborn\n",
        "import seaborn as sns\n",
        "import matplotlib.pyplot as plt\n",
        "\n",
        "# Count plot\n",
        "sns.countplot(x='feedback', data=df)\n",
        "\n",
        "# Set X-axis and Y-axis labels\n",
        "plt.xlabel('Sentiment Score')\n",
        "plt.ylabel('Number of Records')\n",
        "\n",
        "# Show the plot using show() function\n",
        "plt.show()\n"
      ]
    },
    {
      "cell_type": "markdown",
      "metadata": {
        "id": "IvF42p7b1zmr"
      },
      "source": [
        "#### Feature Generation using CountVectorizer"
      ]
    },
    {
      "cell_type": "code",
      "execution_count": null,
      "metadata": {
        "colab": {
          "base_uri": "https://localhost:8080/"
        },
        "id": "d5vsIaRz1zmr",
        "outputId": "ed5074c0-e393-479a-ba13-84b89e5d79b6"
      },
      "outputs": [
        {
          "name": "stderr",
          "output_type": "stream",
          "text": [
            "/usr/local/lib/python3.10/dist-packages/sklearn/feature_extraction/text.py:528: UserWarning: The parameter 'token_pattern' will not be used since 'tokenizer' is not None'\n",
            "  warnings.warn(\n"
          ]
        }
      ],
      "source": [
        "# Import CountVectorizer and RegexTokenizer\n",
        "from nltk.tokenize import RegexpTokenizer\n",
        "from sklearn.feature_extraction.text import CountVectorizer\n",
        "\n",
        "\n",
        "# Create Regex tokenizer for removing special symbols and numeric values\n",
        "regex_tokenizer = RegexpTokenizer(r'[a-zA-Z]+')\n",
        "\n",
        "# Initialize CountVectorizer object\n",
        "count_vectorizer = CountVectorizer(lowercase=True,\n",
        "                     stop_words='english',\n",
        "                     ngram_range = (1,1),\n",
        "                     tokenizer = regex_tokenizer.tokenize)\n",
        "\n",
        "# Fit and transform the dataset\n",
        "count_vectors = count_vectorizer.fit_transform(df['verified_reviews'])"
      ]
    },
    {
      "cell_type": "markdown",
      "metadata": {
        "id": "17JCjcdh1zmr"
      },
      "source": [
        "#### Split train and test set"
      ]
    },
    {
      "cell_type": "code",
      "execution_count": null,
      "metadata": {
        "id": "fKmG3rjW1zms"
      },
      "outputs": [],
      "source": [
        "# Import train_test_split\n",
        "from sklearn.model_selection import train_test_split\n",
        "\n",
        "# Partition data into training and testing set\n",
        "from sklearn.model_selection import train_test_split\n",
        "feature_train, feature_test, target_train, target_test = train_test_split(\n",
        "    count_vectors, df['feedback'], test_size=0.3, random_state=1)"
      ]
    },
    {
      "cell_type": "markdown",
      "metadata": {
        "id": "IL34MmhZ1zms"
      },
      "source": [
        "#### Classification Model Building using Logistic Regression"
      ]
    },
    {
      "cell_type": "code",
      "execution_count": null,
      "metadata": {
        "id": "Ko12mlSl1zms"
      },
      "outputs": [],
      "source": [
        "# import logistic regression scikit-learn model\n",
        "from sklearn.linear_model import LogisticRegression\n",
        "\n",
        "# instantiate the model\n",
        "logreg = LogisticRegression(solver='lbfgs')\n",
        "\n",
        "# fit the model with data\n",
        "logreg.fit(feature_train,target_train)\n",
        "\n",
        "# Forecast the target variable for given test dataset\n",
        "predictions = logreg.predict(feature_test)"
      ]
    },
    {
      "cell_type": "markdown",
      "metadata": {
        "id": "a_wIcYtI1zms"
      },
      "source": [
        "#### Evaluate the Classification Model"
      ]
    },
    {
      "cell_type": "code",
      "execution_count": null,
      "metadata": {
        "colab": {
          "base_uri": "https://localhost:8080/"
        },
        "id": "jt2yFf8a1zms",
        "outputId": "3469f718-7646-4c8f-94a9-5afe637d7215",
        "scrolled": true
      },
      "outputs": [
        {
          "name": "stdout",
          "output_type": "stream",
          "text": [
            "Logistic Regression Model Accuracy: 0.9428571428571428\n",
            "Logistic Regression Model Precision: 0.952433628318584\n",
            "Logistic Regression Model Recall: 0.9873853211009175\n",
            "Logistic Regression Model F1-Score: 0.9695945945945945\n"
          ]
        }
      ],
      "source": [
        "# Import metrics module for performance evaluation\n",
        "from sklearn.metrics import accuracy_score\n",
        "from sklearn.metrics import precision_score\n",
        "from sklearn.metrics import recall_score\n",
        "from sklearn.metrics import f1_score\n",
        "\n",
        "# Assess model performance using accuracy measure\n",
        "print(\"Logistic Regression Model Accuracy:\",accuracy_score(target_test, predictions))\n",
        "# Calculate model precision\n",
        "print(\"Logistic Regression Model Precision:\",precision_score(target_test, predictions))\n",
        "# Calculate model recall\n",
        "print(\"Logistic Regression Model Recall:\",recall_score(target_test, predictions))\n",
        "# Calculate model f1 score\n",
        "print(\"Logistic Regression Model F1-Score:\",f1_score(target_test, predictions))"
      ]
    },
    {
      "cell_type": "markdown",
      "metadata": {
        "id": "o9MkTVPo1zms"
      },
      "source": [
        "### Classification using TF-IDF"
      ]
    },
    {
      "cell_type": "code",
      "execution_count": null,
      "metadata": {
        "colab": {
          "base_uri": "https://localhost:8080/"
        },
        "id": "737UdMvu1zms",
        "outputId": "e6922f36-2456-4fb4-bfde-4fffcbf385e5"
      },
      "outputs": [
        {
          "name": "stderr",
          "output_type": "stream",
          "text": [
            "/usr/local/lib/python3.10/dist-packages/sklearn/feature_extraction/text.py:528: UserWarning: The parameter 'token_pattern' will not be used since 'tokenizer' is not None'\n",
            "  warnings.warn(\n"
          ]
        }
      ],
      "source": [
        "# Import TfidfVectorizer and RegexTokenizer\n",
        "from nltk.tokenize import RegexpTokenizer\n",
        "from sklearn.feature_extraction.text import TfidfVectorizer\n",
        "\n",
        "# Create Regex tokenizer for removing special symbols and numeric values\n",
        "regex_tokenizer = RegexpTokenizer(r'[a-zA-Z]+')\n",
        "\n",
        "# Initialize TfidfVectorizer object\n",
        "tfidf = TfidfVectorizer(lowercase=True,stop_words='english',ngram_range = (1,1),tokenizer = regex_tokenizer.tokenize)\n",
        "\n",
        "# Fit and transform the dataset\n",
        "text_tfidf= tfidf.fit_transform(df['verified_reviews'])"
      ]
    },
    {
      "cell_type": "code",
      "execution_count": null,
      "metadata": {
        "id": "9JtyZbrs1zms"
      },
      "outputs": [],
      "source": [
        "# Import train_test_split\n",
        "from sklearn.model_selection import train_test_split\n",
        "\n",
        "# Partition data into training and testing set\n",
        "from sklearn.model_selection import train_test_split\n",
        "feature_train, feature_test, target_train, target_test = train_test_split(\n",
        "    text_tfidf, df['feedback'], test_size=0.3, random_state=1)"
      ]
    },
    {
      "cell_type": "code",
      "execution_count": null,
      "metadata": {
        "id": "ylg9tJu21zms"
      },
      "outputs": [],
      "source": [
        "# import logistic regression scikit-learn model\n",
        "from sklearn.linear_model import LogisticRegression\n",
        "\n",
        "# instantiate the model\n",
        "logreg = LogisticRegression(solver='lbfgs')\n",
        "\n",
        "# fit the model with data\n",
        "logreg.fit(feature_train,target_train)\n",
        "\n",
        "# Forecast the target variable for given test dataset\n",
        "predictions = logreg.predict(feature_test)"
      ]
    },
    {
      "cell_type": "code",
      "execution_count": null,
      "metadata": {
        "colab": {
          "base_uri": "https://localhost:8080/"
        },
        "id": "g3h2OeW_1zms",
        "outputId": "86ff86b4-4148-4640-fe8f-b3d9d197417f"
      },
      "outputs": [
        {
          "name": "stdout",
          "output_type": "stream",
          "text": [
            "Logistic Regression Model Accuracy: 0.9238095238095239\n",
            "Logistic Regression Model Precision: 0.923728813559322\n",
            "Logistic Regression Model Recall: 1.0\n",
            "Logistic Regression Model F1-Score: 0.960352422907489\n"
          ]
        }
      ],
      "source": [
        "# Import metrics module for performance evaluation\n",
        "from sklearn.metrics import accuracy_score\n",
        "from sklearn.metrics import precision_score\n",
        "from sklearn.metrics import recall_score\n",
        "from sklearn.metrics import f1_score\n",
        "\n",
        "# Assess model performance using accuracy measure\n",
        "print(\"Logistic Regression Model Accuracy:\",accuracy_score(target_test, predictions))\n",
        "# Calculate model precision\n",
        "print(\"Logistic Regression Model Precision:\",precision_score(target_test, predictions))\n",
        "# Calculate model recall\n",
        "print(\"Logistic Regression Model Recall:\",recall_score(target_test, predictions))\n",
        "# Calculate model f1 score\n",
        "print(\"Logistic Regression Model F1-Score:\",f1_score(target_test, predictions))"
      ]
    },
    {
      "cell_type": "markdown",
      "metadata": {
        "id": "y2PVAjSw1zms"
      },
      "source": [
        "## Text Similarity"
      ]
    },
    {
      "cell_type": "code",
      "execution_count": null,
      "metadata": {
        "colab": {
          "base_uri": "https://localhost:8080/"
        },
        "id": "dHZG4VPv1zms",
        "outputId": "9eb30c05-b610-47a8-e787-2c9c5a5c3283"
      },
      "outputs": [
        {
          "data": {
            "text/plain": [
              "0.5"
            ]
          },
          "execution_count": 29,
          "metadata": {},
          "output_type": "execute_result"
        }
      ],
      "source": [
        "def jaccard_similarity(sent1, sent2):\n",
        "    \"\"\"Find text similarity using jaccard similarity\"\"\"\n",
        "\n",
        "    # Tokenize sentences\n",
        "    token1 = set(sent1.split())\n",
        "    token2 = set(sent2.split())\n",
        "\n",
        "    # intersection between tokens of two sentences\n",
        "    intersection_tokens = token1.intersection(token2)\n",
        "\n",
        "    # Union between tokens of two sentences\n",
        "    union_tokens=token1.union(token2)\n",
        "\n",
        "    # Cosine Similarity\n",
        "    sim_= float(len(intersection_tokens) / len(union_tokens))\n",
        "    return sim_\n",
        "\n",
        "# Call function\n",
        "jaccard_similarity('I love pets.','I hate pets.')"
      ]
    },
    {
      "cell_type": "code",
      "execution_count": null,
      "metadata": {
        "colab": {
          "base_uri": "https://localhost:8080/"
        },
        "id": "i7jd19bJ1zms",
        "outputId": "ba443335-0bfe-499a-9806-e921be7f48ad"
      },
      "outputs": [
        {
          "name": "stdout",
          "output_type": "stream",
          "text": [
            "[[0.33609693]]\n"
          ]
        }
      ],
      "source": [
        "# Let's import text feature extraction TfidfVectorizer\n",
        "from sklearn.feature_extraction.text import TfidfVectorizer\n",
        "\n",
        "docs=['I love pets.','I hate pets.']\n",
        "\n",
        "# Initialize TfidfVectorizer object\n",
        "tfidf= TfidfVectorizer()\n",
        "\n",
        "# Fit and transform the given data\n",
        "tfidf_vector = tfidf.fit_transform(docs)\n",
        "\n",
        "# Import cosine_similarity metrics\n",
        "from sklearn.metrics.pairwise import cosine_similarity\n",
        "\n",
        "# compute similarity using cosine similarity\n",
        "cos_sim=cosine_similarity(tfidf_vector[0], tfidf_vector[1])\n",
        "print(cos_sim)"
      ]
    },
    {
      "cell_type": "code",
      "execution_count": null,
      "metadata": {
        "colab": {
          "base_uri": "https://localhost:8080/"
        },
        "id": "Tgq2J3yG82sv",
        "outputId": "9fe53d3e-f17c-4898-8dfb-abb0c7767319"
      },
      "outputs": [
        {
          "name": "stdout",
          "output_type": "stream",
          "text": [
            "0.6362041590639654\n"
          ]
        },
        {
          "name": "stderr",
          "output_type": "stream",
          "text": [
            "<ipython-input-31-6b2914f62611>:9: UserWarning: [W007] The model you're using has no word vectors loaded, so the result of the Doc.similarity method will be based on the tagger, parser and NER, which may not give useful similarity judgements. This may happen if you're using one of the small models, e.g. `en_core_web_sm`, which don't ship with word vectors and only use context-sensitive tensors. You can always add your own word vectors, or use one of the larger models instead if available.\n",
            "  print(doc1.similarity(doc2))\n"
          ]
        }
      ],
      "source": [
        "# Load English model for tokenizer, tagger, parser, and NER\n",
        "nlp = spacy.load('en_core_web_sm')\n",
        "\n",
        "# Create documents 123123123\n",
        "doc1 = nlp(u'I love pets.')\n",
        "doc2 = nlp(u'I hate pets')\n",
        "\n",
        "# Find similarity\n",
        "print(doc1.similarity(doc2))"
      ]
    },
    {
      "cell_type": "code",
      "execution_count": null,
      "metadata": {
        "colab": {
          "base_uri": "https://localhost:8080/"
        },
        "id": "ULzTxiWY8QmP",
        "outputId": "5864770a-22ff-4312-c361-a966c547e9a6"
      },
      "outputs": [
        {
          "name": "stdout",
          "output_type": "stream",
          "text": [
            "Collecting en-core-web-lg==3.7.1\n",
            "  Downloading https://github.com/explosion/spacy-models/releases/download/en_core_web_lg-3.7.1/en_core_web_lg-3.7.1-py3-none-any.whl (587.7 MB)\n",
            "\u001b[2K     \u001b[90m━━━━━━━━━━━━━━━━━━━━━━━━━━━━━━━━━━━━━━━━\u001b[0m \u001b[32m587.7/587.7 MB\u001b[0m \u001b[31m2.3 MB/s\u001b[0m eta \u001b[36m0:00:00\u001b[0m\n",
            "\u001b[?25hRequirement already satisfied: spacy<3.8.0,>=3.7.2 in /usr/local/lib/python3.10/dist-packages (from en-core-web-lg==3.7.1) (3.7.4)\n",
            "Requirement already satisfied: spacy-legacy<3.1.0,>=3.0.11 in /usr/local/lib/python3.10/dist-packages (from spacy<3.8.0,>=3.7.2->en-core-web-lg==3.7.1) (3.0.12)\n",
            "Requirement already satisfied: spacy-loggers<2.0.0,>=1.0.0 in /usr/local/lib/python3.10/dist-packages (from spacy<3.8.0,>=3.7.2->en-core-web-lg==3.7.1) (1.0.5)\n",
            "Requirement already satisfied: murmurhash<1.1.0,>=0.28.0 in /usr/local/lib/python3.10/dist-packages (from spacy<3.8.0,>=3.7.2->en-core-web-lg==3.7.1) (1.0.10)\n",
            "Requirement already satisfied: cymem<2.1.0,>=2.0.2 in /usr/local/lib/python3.10/dist-packages (from spacy<3.8.0,>=3.7.2->en-core-web-lg==3.7.1) (2.0.8)\n",
            "Requirement already satisfied: preshed<3.1.0,>=3.0.2 in /usr/local/lib/python3.10/dist-packages (from spacy<3.8.0,>=3.7.2->en-core-web-lg==3.7.1) (3.0.9)\n",
            "Requirement already satisfied: thinc<8.3.0,>=8.2.2 in /usr/local/lib/python3.10/dist-packages (from spacy<3.8.0,>=3.7.2->en-core-web-lg==3.7.1) (8.2.3)\n",
            "Requirement already satisfied: wasabi<1.2.0,>=0.9.1 in /usr/local/lib/python3.10/dist-packages (from spacy<3.8.0,>=3.7.2->en-core-web-lg==3.7.1) (1.1.2)\n",
            "Requirement already satisfied: srsly<3.0.0,>=2.4.3 in /usr/local/lib/python3.10/dist-packages (from spacy<3.8.0,>=3.7.2->en-core-web-lg==3.7.1) (2.4.8)\n",
            "Requirement already satisfied: catalogue<2.1.0,>=2.0.6 in /usr/local/lib/python3.10/dist-packages (from spacy<3.8.0,>=3.7.2->en-core-web-lg==3.7.1) (2.0.10)\n",
            "Requirement already satisfied: weasel<0.4.0,>=0.1.0 in /usr/local/lib/python3.10/dist-packages (from spacy<3.8.0,>=3.7.2->en-core-web-lg==3.7.1) (0.3.4)\n",
            "Requirement already satisfied: typer<0.10.0,>=0.3.0 in /usr/local/lib/python3.10/dist-packages (from spacy<3.8.0,>=3.7.2->en-core-web-lg==3.7.1) (0.9.0)\n",
            "Requirement already satisfied: smart-open<7.0.0,>=5.2.1 in /usr/local/lib/python3.10/dist-packages (from spacy<3.8.0,>=3.7.2->en-core-web-lg==3.7.1) (6.4.0)\n",
            "Requirement already satisfied: tqdm<5.0.0,>=4.38.0 in /usr/local/lib/python3.10/dist-packages (from spacy<3.8.0,>=3.7.2->en-core-web-lg==3.7.1) (4.66.2)\n",
            "Requirement already satisfied: requests<3.0.0,>=2.13.0 in /usr/local/lib/python3.10/dist-packages (from spacy<3.8.0,>=3.7.2->en-core-web-lg==3.7.1) (2.31.0)\n",
            "Requirement already satisfied: pydantic!=1.8,!=1.8.1,<3.0.0,>=1.7.4 in /usr/local/lib/python3.10/dist-packages (from spacy<3.8.0,>=3.7.2->en-core-web-lg==3.7.1) (2.6.3)\n",
            "Requirement already satisfied: jinja2 in /usr/local/lib/python3.10/dist-packages (from spacy<3.8.0,>=3.7.2->en-core-web-lg==3.7.1) (3.1.3)\n",
            "Requirement already satisfied: setuptools in /usr/local/lib/python3.10/dist-packages (from spacy<3.8.0,>=3.7.2->en-core-web-lg==3.7.1) (67.7.2)\n",
            "Requirement already satisfied: packaging>=20.0 in /usr/local/lib/python3.10/dist-packages (from spacy<3.8.0,>=3.7.2->en-core-web-lg==3.7.1) (23.2)\n",
            "Requirement already satisfied: langcodes<4.0.0,>=3.2.0 in /usr/local/lib/python3.10/dist-packages (from spacy<3.8.0,>=3.7.2->en-core-web-lg==3.7.1) (3.3.0)\n",
            "Requirement already satisfied: numpy>=1.19.0 in /usr/local/lib/python3.10/dist-packages (from spacy<3.8.0,>=3.7.2->en-core-web-lg==3.7.1) (1.25.2)\n",
            "Requirement already satisfied: annotated-types>=0.4.0 in /usr/local/lib/python3.10/dist-packages (from pydantic!=1.8,!=1.8.1,<3.0.0,>=1.7.4->spacy<3.8.0,>=3.7.2->en-core-web-lg==3.7.1) (0.6.0)\n",
            "Requirement already satisfied: pydantic-core==2.16.3 in /usr/local/lib/python3.10/dist-packages (from pydantic!=1.8,!=1.8.1,<3.0.0,>=1.7.4->spacy<3.8.0,>=3.7.2->en-core-web-lg==3.7.1) (2.16.3)\n",
            "Requirement already satisfied: typing-extensions>=4.6.1 in /usr/local/lib/python3.10/dist-packages (from pydantic!=1.8,!=1.8.1,<3.0.0,>=1.7.4->spacy<3.8.0,>=3.7.2->en-core-web-lg==3.7.1) (4.10.0)\n",
            "Requirement already satisfied: charset-normalizer<4,>=2 in /usr/local/lib/python3.10/dist-packages (from requests<3.0.0,>=2.13.0->spacy<3.8.0,>=3.7.2->en-core-web-lg==3.7.1) (3.3.2)\n",
            "Requirement already satisfied: idna<4,>=2.5 in /usr/local/lib/python3.10/dist-packages (from requests<3.0.0,>=2.13.0->spacy<3.8.0,>=3.7.2->en-core-web-lg==3.7.1) (3.6)\n",
            "Requirement already satisfied: urllib3<3,>=1.21.1 in /usr/local/lib/python3.10/dist-packages (from requests<3.0.0,>=2.13.0->spacy<3.8.0,>=3.7.2->en-core-web-lg==3.7.1) (2.0.7)\n",
            "Requirement already satisfied: certifi>=2017.4.17 in /usr/local/lib/python3.10/dist-packages (from requests<3.0.0,>=2.13.0->spacy<3.8.0,>=3.7.2->en-core-web-lg==3.7.1) (2024.2.2)\n",
            "Requirement already satisfied: blis<0.8.0,>=0.7.8 in /usr/local/lib/python3.10/dist-packages (from thinc<8.3.0,>=8.2.2->spacy<3.8.0,>=3.7.2->en-core-web-lg==3.7.1) (0.7.11)\n",
            "Requirement already satisfied: confection<1.0.0,>=0.0.1 in /usr/local/lib/python3.10/dist-packages (from thinc<8.3.0,>=8.2.2->spacy<3.8.0,>=3.7.2->en-core-web-lg==3.7.1) (0.1.4)\n",
            "Requirement already satisfied: click<9.0.0,>=7.1.1 in /usr/local/lib/python3.10/dist-packages (from typer<0.10.0,>=0.3.0->spacy<3.8.0,>=3.7.2->en-core-web-lg==3.7.1) (8.1.7)\n",
            "Requirement already satisfied: cloudpathlib<0.17.0,>=0.7.0 in /usr/local/lib/python3.10/dist-packages (from weasel<0.4.0,>=0.1.0->spacy<3.8.0,>=3.7.2->en-core-web-lg==3.7.1) (0.16.0)\n",
            "Requirement already satisfied: MarkupSafe>=2.0 in /usr/local/lib/python3.10/dist-packages (from jinja2->spacy<3.8.0,>=3.7.2->en-core-web-lg==3.7.1) (2.1.5)\n",
            "Installing collected packages: en-core-web-lg\n",
            "Successfully installed en-core-web-lg-3.7.1\n",
            "\u001b[38;5;2m✔ Download and installation successful\u001b[0m\n",
            "You can now load the package via spacy.load('en_core_web_lg')\n",
            "\u001b[38;5;3m⚠ Restart to reload dependencies\u001b[0m\n",
            "If you are in a Jupyter or Colab notebook, you may need to restart Python in\n",
            "order to load all the package's dependencies. You can do this by selecting the\n",
            "'Restart kernel' or 'Restart runtime' option.\n"
          ]
        }
      ],
      "source": [
        "!python -m spacy download en_core_web_lg"
      ]
    },
    {
      "cell_type": "code",
      "execution_count": null,
      "metadata": {
        "colab": {
          "base_uri": "https://localhost:8080/"
        },
        "id": "JSse2W-W1zms",
        "outputId": "d42fbb33-fb04-45e8-cc26-7feac16c56bc"
      },
      "outputs": [
        {
          "name": "stdout",
          "output_type": "stream",
          "text": [
            "0.9041243947777828\n"
          ]
        }
      ],
      "source": [
        "# Import spacy\n",
        "import spacy\n",
        "\n",
        "# Load English model for tokenizer, tagger, parser, and NER\n",
        "nlp = spacy.load('en_core_web_lg')\n",
        "\n",
        "# Create documents\n",
        "doc1 = nlp(u'I love pets.')\n",
        "doc2 = nlp(u'I hate pets')\n",
        "\n",
        "# Find similarity\n",
        "print(doc1.similarity(doc2))"
      ]
    },
    {
      "cell_type": "markdown",
      "metadata": {
        "id": "SMRL_eKmL43W"
      },
      "source": [
        "\n",
        "\n",
        "---\n",
        "\n",
        "\n",
        "# [Assignment 1] Sentiment Analysis!\n",
        "Try Sentiment Analysis by following suggenstions.\n",
        "- Use Other dataset: [dataset list](https://research.aimultiple.com/sentiment-analysis-dataset/)\n",
        "- Change your classifier: Other than `Logistic Regression`. [ref](https://www.kaggle.com/code/jeffd23/10-classifier-showdown-in-scikit-learn)\n",
        "- Additional preprocessing: n-gram, stopwords [ref](https://towardsdatascience.com/nlp-preprocessing-with-nltk-3c04ee00edc0)\n",
        "\n",
        "Will grade it only on and off. But briefly tell us what did you try.\n",
        "-\n",
        "-\n",
        "-"
      ]
    },
    {
      "cell_type": "markdown",
      "source": [
        "#### Dataset : 3. Financial Phrasebank  \n",
        "The financial phrase bank dataset contains almost 5000 English sentences from financial news, and all sentences are classified based on their emotional tones as either positive, negative, or neutral. All the data is annotated by researchers knowledgeable in the finance domain.\n",
        "\n",
        "Figure 2. Examples of the sentences from financial news and the corresponding sentiment label class\n",
        "![image.png](data:image/png;base64,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)\n",
        "\n",
        "Source: HuggingFace"
      ],
      "metadata": {
        "id": "nf1ofM2iMBhX"
      }
    },
    {
      "cell_type": "markdown",
      "metadata": {
        "id": "iEiT1QqTE3np"
      },
      "source": [
        "#### Load the Dataset"
      ]
    },
    {
      "cell_type": "code",
      "execution_count": null,
      "metadata": {
        "colab": {
          "base_uri": "https://localhost:8080/"
        },
        "id": "Ev_M6WUJDAB0",
        "outputId": "0e3b908f-0615-4471-8066-9592b0dc2c43"
      },
      "outputs": [
        {
          "name": "stdout",
          "output_type": "stream",
          "text": [
            "Collecting datasets\n",
            "  Downloading datasets-2.18.0-py3-none-any.whl (510 kB)\n",
            "\u001b[2K     \u001b[90m━━━━━━━━━━━━━━━━━━━━━━━━━━━━━━━━━━━━━━━━\u001b[0m \u001b[32m510.5/510.5 kB\u001b[0m \u001b[31m3.3 MB/s\u001b[0m eta \u001b[36m0:00:00\u001b[0m\n",
            "\u001b[?25hRequirement already satisfied: scikit-learn in /usr/local/lib/python3.10/dist-packages (1.2.2)\n",
            "Requirement already satisfied: nltk in /usr/local/lib/python3.10/dist-packages (3.8.1)\n",
            "Requirement already satisfied: filelock in /usr/local/lib/python3.10/dist-packages (from datasets) (3.13.1)\n",
            "Requirement already satisfied: numpy>=1.17 in /usr/local/lib/python3.10/dist-packages (from datasets) (1.25.2)\n",
            "Requirement already satisfied: pyarrow>=12.0.0 in /usr/local/lib/python3.10/dist-packages (from datasets) (14.0.2)\n",
            "Requirement already satisfied: pyarrow-hotfix in /usr/local/lib/python3.10/dist-packages (from datasets) (0.6)\n",
            "Collecting dill<0.3.9,>=0.3.0 (from datasets)\n",
            "  Downloading dill-0.3.8-py3-none-any.whl (116 kB)\n",
            "\u001b[2K     \u001b[90m━━━━━━━━━━━━━━━━━━━━━━━━━━━━━━━━━━━━━━━━\u001b[0m \u001b[32m116.3/116.3 kB\u001b[0m \u001b[31m6.5 MB/s\u001b[0m eta \u001b[36m0:00:00\u001b[0m\n",
            "\u001b[?25hRequirement already satisfied: pandas in /usr/local/lib/python3.10/dist-packages (from datasets) (1.5.3)\n",
            "Requirement already satisfied: requests>=2.19.0 in /usr/local/lib/python3.10/dist-packages (from datasets) (2.31.0)\n",
            "Requirement already satisfied: tqdm>=4.62.1 in /usr/local/lib/python3.10/dist-packages (from datasets) (4.66.2)\n",
            "Collecting xxhash (from datasets)\n",
            "  Downloading xxhash-3.4.1-cp310-cp310-manylinux_2_17_x86_64.manylinux2014_x86_64.whl (194 kB)\n",
            "\u001b[2K     \u001b[90m━━━━━━━━━━━━━━━━━━━━━━━━━━━━━━━━━━━━━━━━\u001b[0m \u001b[32m194.1/194.1 kB\u001b[0m \u001b[31m10.6 MB/s\u001b[0m eta \u001b[36m0:00:00\u001b[0m\n",
            "\u001b[?25hCollecting multiprocess (from datasets)\n",
            "  Downloading multiprocess-0.70.16-py310-none-any.whl (134 kB)\n",
            "\u001b[2K     \u001b[90m━━━━━━━━━━━━━━━━━━━━━━━━━━━━━━━━━━━━━━━━\u001b[0m \u001b[32m134.8/134.8 kB\u001b[0m \u001b[31m13.2 MB/s\u001b[0m eta \u001b[36m0:00:00\u001b[0m\n",
            "\u001b[?25hRequirement already satisfied: fsspec[http]<=2024.2.0,>=2023.1.0 in /usr/local/lib/python3.10/dist-packages (from datasets) (2023.6.0)\n",
            "Requirement already satisfied: aiohttp in /usr/local/lib/python3.10/dist-packages (from datasets) (3.9.3)\n",
            "Requirement already satisfied: huggingface-hub>=0.19.4 in /usr/local/lib/python3.10/dist-packages (from datasets) (0.20.3)\n",
            "Requirement already satisfied: packaging in /usr/local/lib/python3.10/dist-packages (from datasets) (24.0)\n",
            "Requirement already satisfied: pyyaml>=5.1 in /usr/local/lib/python3.10/dist-packages (from datasets) (6.0.1)\n",
            "Requirement already satisfied: scipy>=1.3.2 in /usr/local/lib/python3.10/dist-packages (from scikit-learn) (1.11.4)\n",
            "Requirement already satisfied: joblib>=1.1.1 in /usr/local/lib/python3.10/dist-packages (from scikit-learn) (1.3.2)\n",
            "Requirement already satisfied: threadpoolctl>=2.0.0 in /usr/local/lib/python3.10/dist-packages (from scikit-learn) (3.3.0)\n",
            "Requirement already satisfied: click in /usr/local/lib/python3.10/dist-packages (from nltk) (8.1.7)\n",
            "Requirement already satisfied: regex>=2021.8.3 in /usr/local/lib/python3.10/dist-packages (from nltk) (2023.12.25)\n",
            "Requirement already satisfied: aiosignal>=1.1.2 in /usr/local/lib/python3.10/dist-packages (from aiohttp->datasets) (1.3.1)\n",
            "Requirement already satisfied: attrs>=17.3.0 in /usr/local/lib/python3.10/dist-packages (from aiohttp->datasets) (23.2.0)\n",
            "Requirement already satisfied: frozenlist>=1.1.1 in /usr/local/lib/python3.10/dist-packages (from aiohttp->datasets) (1.4.1)\n",
            "Requirement already satisfied: multidict<7.0,>=4.5 in /usr/local/lib/python3.10/dist-packages (from aiohttp->datasets) (6.0.5)\n",
            "Requirement already satisfied: yarl<2.0,>=1.0 in /usr/local/lib/python3.10/dist-packages (from aiohttp->datasets) (1.9.4)\n",
            "Requirement already satisfied: async-timeout<5.0,>=4.0 in /usr/local/lib/python3.10/dist-packages (from aiohttp->datasets) (4.0.3)\n",
            "Requirement already satisfied: typing-extensions>=3.7.4.3 in /usr/local/lib/python3.10/dist-packages (from huggingface-hub>=0.19.4->datasets) (4.10.0)\n",
            "Requirement already satisfied: charset-normalizer<4,>=2 in /usr/local/lib/python3.10/dist-packages (from requests>=2.19.0->datasets) (3.3.2)\n",
            "Requirement already satisfied: idna<4,>=2.5 in /usr/local/lib/python3.10/dist-packages (from requests>=2.19.0->datasets) (3.6)\n",
            "Requirement already satisfied: urllib3<3,>=1.21.1 in /usr/local/lib/python3.10/dist-packages (from requests>=2.19.0->datasets) (2.0.7)\n",
            "Requirement already satisfied: certifi>=2017.4.17 in /usr/local/lib/python3.10/dist-packages (from requests>=2.19.0->datasets) (2024.2.2)\n",
            "Requirement already satisfied: python-dateutil>=2.8.1 in /usr/local/lib/python3.10/dist-packages (from pandas->datasets) (2.8.2)\n",
            "Requirement already satisfied: pytz>=2020.1 in /usr/local/lib/python3.10/dist-packages (from pandas->datasets) (2023.4)\n",
            "Requirement already satisfied: six>=1.5 in /usr/local/lib/python3.10/dist-packages (from python-dateutil>=2.8.1->pandas->datasets) (1.16.0)\n",
            "Installing collected packages: xxhash, dill, multiprocess, datasets\n",
            "Successfully installed datasets-2.18.0 dill-0.3.8 multiprocess-0.70.16 xxhash-3.4.1\n",
            "Requirement already satisfied: xgboost in /usr/local/lib/python3.10/dist-packages (2.0.3)\n",
            "Requirement already satisfied: lightgbm in /usr/local/lib/python3.10/dist-packages (4.1.0)\n",
            "Collecting catboost\n",
            "  Downloading catboost-1.2.3-cp310-cp310-manylinux2014_x86_64.whl (98.5 MB)\n",
            "\u001b[2K     \u001b[90m━━━━━━━━━━━━━━━━━━━━━━━━━━━━━━━━━━━━━━━━\u001b[0m \u001b[32m98.5/98.5 MB\u001b[0m \u001b[31m6.8 MB/s\u001b[0m eta \u001b[36m0:00:00\u001b[0m\n",
            "\u001b[?25hRequirement already satisfied: numpy in /usr/local/lib/python3.10/dist-packages (from xgboost) (1.25.2)\n",
            "Requirement already satisfied: scipy in /usr/local/lib/python3.10/dist-packages (from xgboost) (1.11.4)\n",
            "Requirement already satisfied: graphviz in /usr/local/lib/python3.10/dist-packages (from catboost) (0.20.1)\n",
            "Requirement already satisfied: matplotlib in /usr/local/lib/python3.10/dist-packages (from catboost) (3.7.1)\n",
            "Requirement already satisfied: pandas>=0.24 in /usr/local/lib/python3.10/dist-packages (from catboost) (1.5.3)\n",
            "Requirement already satisfied: plotly in /usr/local/lib/python3.10/dist-packages (from catboost) (5.15.0)\n",
            "Requirement already satisfied: six in /usr/local/lib/python3.10/dist-packages (from catboost) (1.16.0)\n",
            "Requirement already satisfied: python-dateutil>=2.8.1 in /usr/local/lib/python3.10/dist-packages (from pandas>=0.24->catboost) (2.8.2)\n",
            "Requirement already satisfied: pytz>=2020.1 in /usr/local/lib/python3.10/dist-packages (from pandas>=0.24->catboost) (2023.4)\n",
            "Requirement already satisfied: contourpy>=1.0.1 in /usr/local/lib/python3.10/dist-packages (from matplotlib->catboost) (1.2.0)\n",
            "Requirement already satisfied: cycler>=0.10 in /usr/local/lib/python3.10/dist-packages (from matplotlib->catboost) (0.12.1)\n",
            "Requirement already satisfied: fonttools>=4.22.0 in /usr/local/lib/python3.10/dist-packages (from matplotlib->catboost) (4.49.0)\n",
            "Requirement already satisfied: kiwisolver>=1.0.1 in /usr/local/lib/python3.10/dist-packages (from matplotlib->catboost) (1.4.5)\n",
            "Requirement already satisfied: packaging>=20.0 in /usr/local/lib/python3.10/dist-packages (from matplotlib->catboost) (24.0)\n",
            "Requirement already satisfied: pillow>=6.2.0 in /usr/local/lib/python3.10/dist-packages (from matplotlib->catboost) (9.4.0)\n",
            "Requirement already satisfied: pyparsing>=2.3.1 in /usr/local/lib/python3.10/dist-packages (from matplotlib->catboost) (3.1.2)\n",
            "Requirement already satisfied: tenacity>=6.2.0 in /usr/local/lib/python3.10/dist-packages (from plotly->catboost) (8.2.3)\n",
            "Installing collected packages: catboost\n",
            "Successfully installed catboost-1.2.3\n"
          ]
        }
      ],
      "source": [
        "!pip install datasets scikit-learn nltk\n",
        "\n",
        "import pandas as pd\n",
        "from datasets import load_dataset\n",
        "import seaborn as sns\n",
        "import matplotlib.pyplot as plt\n",
        "from sklearn.feature_extraction.text import TfidfVectorizer\n",
        "from nltk.corpus import stopwords\n",
        "import nltk\n",
        "from sklearn.model_selection import train_test_split\n",
        "from sklearn.model_selection import GridSearchCV\n",
        "from sklearn.metrics import accuracy_score, precision_score, recall_score, f1_score\n",
        "\n",
        "\n",
        "# 일부 분류 모델 라이브러리\n",
        "!pip install xgboost lightgbm catboost\n",
        "import xgboost as xgb\n",
        "import lightgbm as lgb\n",
        "import catboost as cb\n",
        "from sklearn.ensemble import RandomForestClassifier, AdaBoostClassifier, GradientBoostingClassifier\n",
        "from sklearn.tree import DecisionTreeClassifier\n",
        "from sklearn.svm import SVC\n",
        "\n",
        "# 레이블 인코더(일부 문자열 레이블을 숫자 형태의 레이블로 변환)\n",
        "from sklearn.preprocessing import LabelEncoder\n"
      ]
    },
    {
      "cell_type": "code",
      "execution_count": null,
      "metadata": {
        "colab": {
          "base_uri": "https://localhost:8080/",
          "height": 362,
          "referenced_widgets": [
            "040aa8c23b80401ba85caaa0cbd0a631",
            "3bb269374b28450b8ffb5b4522c26a0e",
            "b23bfce2c28e4eb2b2b665c205231988",
            "4487d4491e9d449dac5a9a7690f5dc40",
            "9342bf10b54f47d592f73be6cbb3c542",
            "17fe3650dc964467ac4fc74de75f704a",
            "5499ed5e89ac4465a7e2767c915d08d7",
            "4afad82155f54cd7ab539e307a03e5bf",
            "216f36b433104913a3403fc1e8e09dc7",
            "9b29a0ec4b0e483c8a6db3a4783ab997",
            "3f98f37088074788b1a88d4fdbe13481",
            "46d03507cf7942479f6416842855485f",
            "81ff016c3e2649808e942fe0f6f94444",
            "ef8c7ee188d54883b37446b1cb65d864",
            "596022e9b58d495f9a4e3742f503b27c",
            "2503144a1a80492480c3046886313f0a",
            "b3d583e265184ae6bb9fc8d10ef3ba08",
            "853aa5af9ad74b4eb32b1ea615706936",
            "b91ec3ba23bd42d089c8d60f3c562d34",
            "5b92bea3e13143548a073d65c9facf3b",
            "7f3a020b7ae148f1aaca0f30c5e66442",
            "6799ee94df7047d688d4f5ada4867cad"
          ]
        },
        "id": "HgaiKMYdE3np",
        "outputId": "8170f40c-9143-451c-c835-249062f0bdfe"
      },
      "outputs": [
        {
          "name": "stderr",
          "output_type": "stream",
          "text": [
            "[nltk_data] Downloading package stopwords to /root/nltk_data...\n",
            "[nltk_data]   Unzipping corpora/stopwords.zip.\n",
            "/usr/local/lib/python3.10/dist-packages/huggingface_hub/utils/_token.py:88: UserWarning: \n",
            "The secret `HF_TOKEN` does not exist in your Colab secrets.\n",
            "To authenticate with the Hugging Face Hub, create a token in your settings tab (https://huggingface.co/settings/tokens), set it as secret in your Google Colab and restart your session.\n",
            "You will be able to reuse this secret in all of your notebooks.\n",
            "Please note that authentication is recommended but still optional to access public models or datasets.\n",
            "  warnings.warn(\n"
          ]
        },
        {
          "data": {
            "application/vnd.jupyter.widget-view+json": {
              "model_id": "040aa8c23b80401ba85caaa0cbd0a631",
              "version_major": 2,
              "version_minor": 0
            },
            "text/plain": [
              "Downloading data:   0%|          | 0.00/269k [00:00<?, ?B/s]"
            ]
          },
          "metadata": {},
          "output_type": "display_data"
        },
        {
          "data": {
            "application/vnd.jupyter.widget-view+json": {
              "model_id": "46d03507cf7942479f6416842855485f",
              "version_major": 2,
              "version_minor": 0
            },
            "text/plain": [
              "Generating train split:   0%|          | 0/3453 [00:00<?, ? examples/s]"
            ]
          },
          "metadata": {},
          "output_type": "display_data"
        },
        {
          "name": "stdout",
          "output_type": "stream",
          "text": [
            "                                            sentence  label\n",
            "0  According to Gran , the company has no plans t...      1\n",
            "1  With the new production plant the company woul...      2\n",
            "2  For the last quarter of 2010 , Componenta 's n...      2\n",
            "3  In the third quarter of 2010 , net sales incre...      2\n",
            "4  Operating profit rose to EUR 13.1 mn from EUR ...      2\n"
          ]
        }
      ],
      "source": [
        "nltk.download('stopwords')\n",
        "\n",
        "# Financial Phrasebank 데이터셋 로드\n",
        "dataset = load_dataset(\"financial_phrasebank\", \"sentences_75agree\")\n",
        "\n",
        "# 데이터 프레임으로 변환\n",
        "df = pd.DataFrame(dataset['train'])\n",
        "\n",
        "# 상위 5개 기록 표시\n",
        "print(df.head())\n",
        "\n",
        "# 레이블 매핑 (긍정: 2, 중립: 1, 부정: 0)\n",
        "df['label'] = df['label'].map({0: 'negative', 1: 'neutral', 2: 'positive'})"
      ]
    },
    {
      "cell_type": "markdown",
      "metadata": {
        "id": "5TRWRky2E3nq"
      },
      "source": [
        "#### Explore the dataset"
      ]
    },
    {
      "cell_type": "code",
      "execution_count": null,
      "metadata": {
        "colab": {
          "base_uri": "https://localhost:8080/",
          "height": 449
        },
        "id": "idTWG-3JE3nq",
        "outputId": "b0d95be2-e180-43f5-8439-03dba4af3f66"
      },
      "outputs": [
        {
          "data": {
            "image/png": "[encoded data removed]",
            "text/plain": [
              "<Figure size 640x480 with 1 Axes>"
            ]
          },
          "metadata": {},
          "output_type": "display_data"
        }
      ],
      "source": [
        "# 감정 레이블 분포 시각화\n",
        "sns.countplot(x='label', data=df)\n",
        "\n",
        "# X축과 Y축 레이블 설정\n",
        "plt.xlabel('Sentiment Label')\n",
        "plt.ylabel('Number of Records')\n",
        "\n",
        "# 플롯 표시\n",
        "plt.show()\n"
      ]
    },
    {
      "cell_type": "markdown",
      "metadata": {
        "id": "MaUyHGOOE3nq"
      },
      "source": [
        "#### Feature Generation"
      ]
    },
    {
      "cell_type": "code",
      "execution_count": null,
      "metadata": {
        "id": "YsIRX5j5E3nq"
      },
      "outputs": [],
      "source": [
        "# TF-IDF 벡터화 (텍스트 데이터를 수치화하는 방법이기에 문서 또는 문장의 중요한 단어를 파악하는 데 사용함)\n",
        "tfidf_vectorizer = TfidfVectorizer(lowercase=True, stop_words=stopwords.words('english'), ngram_range=(1, 3), max_features=10000)\n",
        "\n",
        "# 데이터셋에 'sentence' 칼럼을 fit_transform\n",
        "tfidf_vectors = tfidf_vectorizer.fit_transform(df['sentence'])"
      ]
    },
    {
      "cell_type": "markdown",
      "metadata": {
        "id": "rQoQhIF_E3nq"
      },
      "source": [
        "#### Split train and test set"
      ]
    },
    {
      "cell_type": "code",
      "execution_count": null,
      "metadata": {
        "id": "ifVhMuK1E3nr"
      },
      "outputs": [],
      "source": [
        "# 데이터 분할\n",
        "X_train, X_test, y_train, y_test = train_test_split(tfidf_vectors, df['label'], test_size=0.2, random_state=42)"
      ]
    },
    {
      "cell_type": "markdown",
      "metadata": {
        "id": "i0LqbdWhE3nr"
      },
      "source": [
        "#### 분류기 - 모델 구축\n",
        "\n",
        "#### 적용 모델 종류\n",
        "\n",
        "```\n",
        "Random Forest,\n",
        "XGBoost,\n",
        "CatBoost,\n",
        "AdaBoost,\n",
        "SVM,\n",
        "Gradient Boosting,\n",
        "LightGBM,\n",
        "Decision Tree\n",
        "```\n",
        "\n"
      ]
    },
    {
      "cell_type": "markdown",
      "metadata": {
        "id": "BcOpXGJ0MYqG"
      },
      "source": [
        "\n",
        "\n",
        "1. Random Forest  \n",
        "앙상블 학습 방법 중 하나로, 다수의 결정 트리(Decision Trees)를 조합하여 사용함.  \n",
        "각 트리는 데이터의 서로 다른 무작위 샘플로부터 학습하며, 최종 예측은 개별 트리의 예측을 평균내거나 다수결로 결정함.   \n",
        "과적합(overfitting)을 방지하고, 높은 정확도를 제공.   \n",
        "\n",
        "\n",
        "2. XGBoost  \n",
        "Gradient Boosting 모델을 기반으로 하는 고성능, 고속의 라이브러리.  \n",
        "결정 트리 기반 앙상블 기법으로, 순차적으로 트리를 추가하면서 이전 트리의 오류를 수정해 나가는 방식을 사용함.  \n",
        "대규모 데이터셋 처리에 적합하며, 정규화(regularization) 기능이 추가되어 과적합을 줄임.\n",
        "\n",
        "\n",
        "\n",
        "3. CatBoost  \n",
        "카테고리형 변수를 자동으로 변환하여 처리할 수 있는 능력이 특징인 Gradient Boosting 라이브러리.\n",
        "\n",
        "4. AdaBoost  \n",
        "Adaptive Boosting의 약자로, 약한 학습기(weak learner)들을 순차적으로 학습시키면서 잘못 분류된 데이터에 가중치를 주어 오류를 개선해 나가는 방식을 사용함.\n",
        "\n",
        "5. SVM (Support Vector Machine)  \n",
        "데이터를 분류하기 위한 초평면(hyperplane)을 찾는 모델  \n",
        "마진(margin)을 최대화하는 방식으로 최적의 분류 경계를 확인함.  \n",
        "선형 뿐만 아니라 비선형 데이터셋에도 커널 트릭을 사용하여 적용함.\n",
        "\n",
        "\n",
        "\n",
        "6. Gradient Boosting  \n",
        "여러 개의 결정 트리를 조합해 오류를 줄여나가는 방식으로 작동하는 앙상블 기법.  \n",
        "손실 함수의 그래디언트를 이용하여 모델을 순차적으로 개선해 나감.\n",
        "\n",
        "\n",
        "\n",
        "7. LightGBM  \n",
        "Gradient Boosting 프레임워크 중 하나로, 트리 기반 학습 알고리즘의 효율성과 속도를 개선함.   \n",
        "대용량 데이터 처리에 적합하며, 메모리 사용량이 적고 실행 속도가 상당히 빠름.\n",
        "범주형 특성의 자동 변환 및 최적화를 지원함.\n",
        "\n",
        "\n",
        "8. Decision Tree  \n",
        "데이터를 분류하거나 회귀 분석을 위한 결정 규칙을 트리 구조로 나타내는 모델에 해당됨.  \n"
      ]
    },
    {
      "cell_type": "code",
      "execution_count": null,
      "metadata": {
        "id": "I3ryF5V8E3nr"
      },
      "outputs": [],
      "source": [
        "# 모델 초기화\n",
        "models = {\n",
        "    \"Random Forest\": RandomForestClassifier(n_estimators=100, random_state=42),\n",
        "    \"XGBoost\": xgb.XGBClassifier(use_label_encoder=False, eval_metric='logloss'),\n",
        "    \"CatBoost\": cb.CatBoostClassifier(verbose=0),\n",
        "    \"AdaBoost\": AdaBoostClassifier(n_estimators=100),\n",
        "    \"SVM\": SVC(),\n",
        "    \"Gradient Boosting\": GradientBoostingClassifier(n_estimators=100),\n",
        "    \"LightGBM\": lgb.LGBMClassifier(),\n",
        "    \"Decision Tree\": DecisionTreeClassifier()\n",
        "}"
      ]
    },
    {
      "cell_type": "markdown",
      "metadata": {
        "id": "c98s7XDOE3nr"
      },
      "source": [
        "#### Evaluate the Classification Model"
      ]
    },
    {
      "cell_type": "code",
      "execution_count": null,
      "metadata": {
        "colab": {
          "base_uri": "https://localhost:8080/"
        },
        "id": "fWAnjR9dE3nr",
        "outputId": "c0d85a3f-5331-4fa8-d6da-283d9d655c47",
        "scrolled": true
      },
      "outputs": [
        {
          "name": "stdout",
          "output_type": "stream",
          "text": [
            "Random Forest Model Performance:\n",
            "Accuracy: 0.8423\n",
            "Precision: 0.8469\n",
            "Recall: 0.8423\n",
            "F1 Score: 0.8309\n",
            "\n",
            "XGBoost Model Performance:\n",
            "Accuracy: 0.8365\n",
            "Precision: 0.8333\n",
            "Recall: 0.8365\n",
            "F1 Score: 0.8299\n",
            "\n"
          ]
        },
        {
          "name": "stderr",
          "output_type": "stream",
          "text": [
            "/usr/local/lib/python3.10/dist-packages/sklearn/preprocessing/_label.py:155: DataConversionWarning: A column-vector y was passed when a 1d array was expected. Please change the shape of y to (n_samples, ), for example using ravel().\n",
            "  y = column_or_1d(y, warn=True)\n"
          ]
        },
        {
          "name": "stdout",
          "output_type": "stream",
          "text": [
            "CatBoost Model Performance:\n",
            "Accuracy: 0.8321\n",
            "Precision: 0.8324\n",
            "Recall: 0.8321\n",
            "F1 Score: 0.8222\n",
            "\n",
            "AdaBoost Model Performance:\n",
            "Accuracy: 0.7974\n",
            "Precision: 0.7903\n",
            "Recall: 0.7974\n",
            "F1 Score: 0.7859\n",
            "\n",
            "SVM Model Performance:\n",
            "Accuracy: 0.7916\n",
            "Precision: 0.7988\n",
            "Recall: 0.7916\n",
            "F1 Score: 0.7678\n",
            "\n",
            "Gradient Boosting Model Performance:\n",
            "Accuracy: 0.8408\n",
            "Precision: 0.8444\n",
            "Recall: 0.8408\n",
            "F1 Score: 0.8305\n",
            "\n",
            "[LightGBM] [Info] Auto-choosing row-wise multi-threading, the overhead of testing was 0.006828 seconds.\n",
            "You can set `force_row_wise=true` to remove the overhead.\n",
            "And if memory is not enough, you can set `force_col_wise=true`.\n",
            "[LightGBM] [Info] Total Bins 6326\n",
            "[LightGBM] [Info] Number of data points in the train set: 2762, number of used features: 351\n",
            "[LightGBM] [Info] Start training from score -2.071508\n",
            "[LightGBM] [Info] Start training from score -0.477709\n",
            "[LightGBM] [Info] Start training from score -1.371202\n",
            "LightGBM Model Performance:\n",
            "Accuracy: 0.8075\n",
            "Precision: 0.8004\n",
            "Recall: 0.8075\n",
            "F1 Score: 0.8001\n",
            "\n",
            "Decision Tree Model Performance:\n",
            "Accuracy: 0.7641\n",
            "Precision: 0.7602\n",
            "Recall: 0.7641\n",
            "F1 Score: 0.7619\n",
            "\n"
          ]
        }
      ],
      "source": [
        "# 레이블 인코더 초기화\n",
        "label_encoder = LabelEncoder()\n",
        "\n",
        "# 훈련 및 테스트 레이블 인코딩\n",
        "y_train_encoded = label_encoder.fit_transform(y_train)\n",
        "y_test_encoded = label_encoder.transform(y_test)\n",
        "\n",
        "# 업데이트된 레이블을 사용하여 모델 학습 및 평가 반복\n",
        "for name, model in models.items():\n",
        "    model.fit(X_train, y_train_encoded)  # 인코딩된 레이블 사용\n",
        "    predictions_encoded = model.predict(X_test)\n",
        "\n",
        "    # 역변환하여 원래 레이블 형태로 복원\n",
        "    predictions = label_encoder.inverse_transform(predictions_encoded)\n",
        "\n",
        "    accuracy = accuracy_score(y_test, predictions)\n",
        "    precision = precision_score(y_test, predictions, average='weighted', zero_division=0)\n",
        "    recall = recall_score(y_test, predictions, average='weighted', zero_division=0)\n",
        "    f1 = f1_score(y_test, predictions, average='weighted', zero_division=0)\n",
        "\n",
        "    print(f\"{name} Model Performance:\")\n",
        "    print(f\"Accuracy: {accuracy:.4f}\")\n",
        "    print(f\"Precision: {precision:.4f}\")\n",
        "    print(f\"Recall: {recall:.4f}\")\n",
        "    print(f\"F1 Score: {f1:.4f}\\n\")"
      ]
    },
    {
      "cell_type": "markdown",
      "metadata": {
        "id": "cosYozKiHkHX"
      },
      "source": [
        "#### 1차 테스트 결과, f1 score 기준 성능이 가장 좋았던 Gradient Boosting 모델에 대해 GridSearch를 활용해 파라미터 최적화"
      ]
    },
    {
      "cell_type": "code",
      "execution_count": null,
      "metadata": {
        "colab": {
          "background_save": true
        },
        "id": "TQD_8nnWOpAM",
        "outputId": "d44f7bea-9175-4880-ebb7-786e84604c55"
      },
      "outputs": [
        {
          "name": "stdout",
          "output_type": "stream",
          "text": [
            "Best parameters found by grid search: {'learning_rate': 0.1, 'max_depth': 4, 'max_features': None, 'min_samples_leaf': 1, 'min_samples_split': 2, 'n_estimators': 200}\n"
          ]
        }
      ],
      "source": [
        "param_grid = {\n",
        "    'n_estimators': [100, 200],  # 트리의 개수\n",
        "    'learning_rate': [0.01, 0.1],  # 학습률\n",
        "    'max_depth': [3, 4],  # 트리의 최대 깊이\n",
        "    'min_samples_split': [2, 4],  # 내부 노드를 분할하는데 필요한 최소 샘플 수\n",
        "    'min_samples_leaf': [1, 2],  # 리프 노드에 있어야 하는 최소 샘플 수\n",
        "    'max_features': ['sqrt', 'log2', None]  # 최적의 분할을 찾기 위해 고려할 피처의 수\n",
        "}\n",
        "\n",
        "# GridSearchCV 객체 생성\n",
        "grid_search = GridSearchCV(GradientBoostingClassifier(random_state=42), param_grid, cv=5, scoring='accuracy', n_jobs=-1)\n",
        "\n",
        "# Grid search 수행\n",
        "grid_search.fit(X_train, y_train)\n",
        "\n",
        "# 최적의 하이퍼파라미터 출력\n",
        "print(\"Best parameters found by grid search:\", grid_search.best_params_)"
      ]
    },
    {
      "cell_type": "markdown",
      "metadata": {
        "id": "FNLfIIBPOt7J"
      },
      "source": [
        "#### 최종 평가"
      ]
    },
    {
      "cell_type": "code",
      "execution_count": null,
      "metadata": {
        "colab": {
          "background_save": true
        },
        "id": "cfGXjr27Ow-0",
        "outputId": "79f9adc3-787d-4881-f07a-a1e52792b5d6"
      },
      "outputs": [
        {
          "name": "stdout",
          "output_type": "stream",
          "text": [
            "Optimized Gradient Boosting Model Performance:\n",
            "Accuracy: 0.8423\n",
            "Precision: 0.8412\n",
            "Recall: 0.8423\n",
            "F1 Score: 0.8342\n"
          ]
        }
      ],
      "source": [
        "# 최적의 하이퍼파라미터를 가진 모델 선택\n",
        "best_gb_model = grid_search.best_estimator_\n",
        "\n",
        "# 테스트 데이터셋에 대한 예측 수행\n",
        "predictions = best_gb_model.predict(X_test)\n",
        "\n",
        "# 모델 성능 평가\n",
        "accuracy = accuracy_score(y_test, predictions)\n",
        "precision = precision_score(y_test, predictions, average='weighted', zero_division=0)\n",
        "recall = recall_score(y_test, predictions, average='weighted', zero_division=0)\n",
        "f1 = f1_score(y_test, predictions, average='weighted', zero_division=0)\n",
        "\n",
        "# 평가 결과 출력\n",
        "print(\"Optimized Gradient Boosting Model Performance:\")\n",
        "print(f\"Accuracy: {accuracy:.4f}\")\n",
        "print(f\"Precision: {precision:.4f}\")\n",
        "print(f\"Recall: {recall:.4f}\")\n",
        "print(f\"F1 Score: {f1:.4f}\")"
      ]
    }
  ],
  "metadata": {
    "colab": {
      "provenance": []
    },
    "kernelspec": {
      "display_name": "Python 3",
      "language": "python",
      "name": "python3"
    },
    "language_info": {
      "codemirror_mode": {
        "name": "ipython",
        "version": 3
      },
      "file_extension": ".py",
      "mimetype": "text/x-python",
      "name": "python",
      "nbconvert_exporter": "python",
      "pygments_lexer": "ipython3",
      "version": "3.8.3"
    },
    "widgets": {
      "application/vnd.jupyter.widget-state+json": {
        "040aa8c23b80401ba85caaa0cbd0a631": {
          "model_module": "@jupyter-widgets/controls",
          "model_module_version": "1.5.0",
          "model_name": "HBoxModel",
          "state": {
            "_dom_classes": [],
            "_model_module": "@jupyter-widgets/controls",
            "_model_module_version": "1.5.0",
            "_model_name": "HBoxModel",
            "_view_count": null,
            "_view_module": "@jupyter-widgets/controls",
            "_view_module_version": "1.5.0",
            "_view_name": "HBoxView",
            "box_style": "",
            "children": [
              "IPY_MODEL_3bb269374b28450b8ffb5b4522c26a0e",
              "IPY_MODEL_b23bfce2c28e4eb2b2b665c205231988",
              "IPY_MODEL_4487d4491e9d449dac5a9a7690f5dc40"
            ],
            "layout": "IPY_MODEL_9342bf10b54f47d592f73be6cbb3c542"
          }
        },
        "17fe3650dc964467ac4fc74de75f704a": {
          "model_module": "@jupyter-widgets/base",
          "model_module_version": "1.2.0",
          "model_name": "LayoutModel",
          "state": {
            "_model_module": "@jupyter-widgets/base",
            "_model_module_version": "1.2.0",
            "_model_name": "LayoutModel",
            "_view_count": null,
            "_view_module": "@jupyter-widgets/base",
            "_view_module_version": "1.2.0",
            "_view_name": "LayoutView",
            "align_content": null,
            "align_items": null,
            "align_self": null,
            "border": null,
            "bottom": null,
            "display": null,
            "flex": null,
            "flex_flow": null,
            "grid_area": null,
            "grid_auto_columns": null,
            "grid_auto_flow": null,
            "grid_auto_rows": null,
            "grid_column": null,
            "grid_gap": null,
            "grid_row": null,
            "grid_template_areas": null,
            "grid_template_columns": null,
            "grid_template_rows": null,
            "height": null,
            "justify_content": null,
            "justify_items": null,
            "left": null,
            "margin": null,
            "max_height": null,
            "max_width": null,
            "min_height": null,
            "min_width": null,
            "object_fit": null,
            "object_position": null,
            "order": null,
            "overflow": null,
            "overflow_x": null,
            "overflow_y": null,
            "padding": null,
            "right": null,
            "top": null,
            "visibility": null,
            "width": null
          }
        },
        "216f36b433104913a3403fc1e8e09dc7": {
          "model_module": "@jupyter-widgets/controls",
          "model_module_version": "1.5.0",
          "model_name": "ProgressStyleModel",
          "state": {
            "_model_module": "@jupyter-widgets/controls",
            "_model_module_version": "1.5.0",
            "_model_name": "ProgressStyleModel",
            "_view_count": null,
            "_view_module": "@jupyter-widgets/base",
            "_view_module_version": "1.2.0",
            "_view_name": "StyleView",
            "bar_color": null,
            "description_width": ""
          }
        },
        "2503144a1a80492480c3046886313f0a": {
          "model_module": "@jupyter-widgets/base",
          "model_module_version": "1.2.0",
          "model_name": "LayoutModel",
          "state": {
            "_model_module": "@jupyter-widgets/base",
            "_model_module_version": "1.2.0",
            "_model_name": "LayoutModel",
            "_view_count": null,
            "_view_module": "@jupyter-widgets/base",
            "_view_module_version": "1.2.0",
            "_view_name": "LayoutView",
            "align_content": null,
            "align_items": null,
            "align_self": null,
            "border": null,
            "bottom": null,
            "display": null,
            "flex": null,
            "flex_flow": null,
            "grid_area": null,
            "grid_auto_columns": null,
            "grid_auto_flow": null,
            "grid_auto_rows": null,
            "grid_column": null,
            "grid_gap": null,
            "grid_row": null,
            "grid_template_areas": null,
            "grid_template_columns": null,
            "grid_template_rows": null,
            "height": null,
            "justify_content": null,
            "justify_items": null,
            "left": null,
            "margin": null,
            "max_height": null,
            "max_width": null,
            "min_height": null,
            "min_width": null,
            "object_fit": null,
            "object_position": null,
            "order": null,
            "overflow": null,
            "overflow_x": null,
            "overflow_y": null,
            "padding": null,
            "right": null,
            "top": null,
            "visibility": null,
            "width": null
          }
        },
        "3bb269374b28450b8ffb5b4522c26a0e": {
          "model_module": "@jupyter-widgets/controls",
          "model_module_version": "1.5.0",
          "model_name": "HTMLModel",
          "state": {
            "_dom_classes": [],
            "_model_module": "@jupyter-widgets/controls",
            "_model_module_version": "1.5.0",
            "_model_name": "HTMLModel",
            "_view_count": null,
            "_view_module": "@jupyter-widgets/controls",
            "_view_module_version": "1.5.0",
            "_view_name": "HTMLView",
            "description": "",
            "description_tooltip": null,
            "layout": "IPY_MODEL_17fe3650dc964467ac4fc74de75f704a",
            "placeholder": "​",
            "style": "IPY_MODEL_5499ed5e89ac4465a7e2767c915d08d7",
            "value": "Downloading data: 100%"
          }
        },
        "3f98f37088074788b1a88d4fdbe13481": {
          "model_module": "@jupyter-widgets/controls",
          "model_module_version": "1.5.0",
          "model_name": "DescriptionStyleModel",
          "state": {
            "_model_module": "@jupyter-widgets/controls",
            "_model_module_version": "1.5.0",
            "_model_name": "DescriptionStyleModel",
            "_view_count": null,
            "_view_module": "@jupyter-widgets/base",
            "_view_module_version": "1.2.0",
            "_view_name": "StyleView",
            "description_width": ""
          }
        },
        "4487d4491e9d449dac5a9a7690f5dc40": {
          "model_module": "@jupyter-widgets/controls",
          "model_module_version": "1.5.0",
          "model_name": "HTMLModel",
          "state": {
            "_dom_classes": [],
            "_model_module": "@jupyter-widgets/controls",
            "_model_module_version": "1.5.0",
            "_model_name": "HTMLModel",
            "_view_count": null,
            "_view_module": "@jupyter-widgets/controls",
            "_view_module_version": "1.5.0",
            "_view_name": "HTMLView",
            "description": "",
            "description_tooltip": null,
            "layout": "IPY_MODEL_9b29a0ec4b0e483c8a6db3a4783ab997",
            "placeholder": "​",
            "style": "IPY_MODEL_3f98f37088074788b1a88d4fdbe13481",
            "value": " 269k/269k [00:00&lt;00:00, 3.33MB/s]"
          }
        },
        "46d03507cf7942479f6416842855485f": {
          "model_module": "@jupyter-widgets/controls",
          "model_module_version": "1.5.0",
          "model_name": "HBoxModel",
          "state": {
            "_dom_classes": [],
            "_model_module": "@jupyter-widgets/controls",
            "_model_module_version": "1.5.0",
            "_model_name": "HBoxModel",
            "_view_count": null,
            "_view_module": "@jupyter-widgets/controls",
            "_view_module_version": "1.5.0",
            "_view_name": "HBoxView",
            "box_style": "",
            "children": [
              "IPY_MODEL_81ff016c3e2649808e942fe0f6f94444",
              "IPY_MODEL_ef8c7ee188d54883b37446b1cb65d864",
              "IPY_MODEL_596022e9b58d495f9a4e3742f503b27c"
            ],
            "layout": "IPY_MODEL_2503144a1a80492480c3046886313f0a"
          }
        },
        "4afad82155f54cd7ab539e307a03e5bf": {
          "model_module": "@jupyter-widgets/base",
          "model_module_version": "1.2.0",
          "model_name": "LayoutModel",
          "state": {
            "_model_module": "@jupyter-widgets/base",
            "_model_module_version": "1.2.0",
            "_model_name": "LayoutModel",
            "_view_count": null,
            "_view_module": "@jupyter-widgets/base",
            "_view_module_version": "1.2.0",
            "_view_name": "LayoutView",
            "align_content": null,
            "align_items": null,
            "align_self": null,
            "border": null,
            "bottom": null,
            "display": null,
            "flex": null,
            "flex_flow": null,
            "grid_area": null,
            "grid_auto_columns": null,
            "grid_auto_flow": null,
            "grid_auto_rows": null,
            "grid_column": null,
            "grid_gap": null,
            "grid_row": null,
            "grid_template_areas": null,
            "grid_template_columns": null,
            "grid_template_rows": null,
            "height": null,
            "justify_content": null,
            "justify_items": null,
            "left": null,
            "margin": null,
            "max_height": null,
            "max_width": null,
            "min_height": null,
            "min_width": null,
            "object_fit": null,
            "object_position": null,
            "order": null,
            "overflow": null,
            "overflow_x": null,
            "overflow_y": null,
            "padding": null,
            "right": null,
            "top": null,
            "visibility": null,
            "width": null
          }
        },
        "5499ed5e89ac4465a7e2767c915d08d7": {
          "model_module": "@jupyter-widgets/controls",
          "model_module_version": "1.5.0",
          "model_name": "DescriptionStyleModel",
          "state": {
            "_model_module": "@jupyter-widgets/controls",
            "_model_module_version": "1.5.0",
            "_model_name": "DescriptionStyleModel",
            "_view_count": null,
            "_view_module": "@jupyter-widgets/base",
            "_view_module_version": "1.2.0",
            "_view_name": "StyleView",
            "description_width": ""
          }
        },
        "596022e9b58d495f9a4e3742f503b27c": {
          "model_module": "@jupyter-widgets/controls",
          "model_module_version": "1.5.0",
          "model_name": "HTMLModel",
          "state": {
            "_dom_classes": [],
            "_model_module": "@jupyter-widgets/controls",
            "_model_module_version": "1.5.0",
            "_model_name": "HTMLModel",
            "_view_count": null,
            "_view_module": "@jupyter-widgets/controls",
            "_view_module_version": "1.5.0",
            "_view_name": "HTMLView",
            "description": "",
            "description_tooltip": null,
            "layout": "IPY_MODEL_7f3a020b7ae148f1aaca0f30c5e66442",
            "placeholder": "​",
            "style": "IPY_MODEL_6799ee94df7047d688d4f5ada4867cad",
            "value": " 3453/3453 [00:00&lt;00:00, 46390.36 examples/s]"
          }
        },
        "5b92bea3e13143548a073d65c9facf3b": {
          "model_module": "@jupyter-widgets/controls",
          "model_module_version": "1.5.0",
          "model_name": "ProgressStyleModel",
          "state": {
            "_model_module": "@jupyter-widgets/controls",
            "_model_module_version": "1.5.0",
            "_model_name": "ProgressStyleModel",
            "_view_count": null,
            "_view_module": "@jupyter-widgets/base",
            "_view_module_version": "1.2.0",
            "_view_name": "StyleView",
            "bar_color": null,
            "description_width": ""
          }
        },
        "6799ee94df7047d688d4f5ada4867cad": {
          "model_module": "@jupyter-widgets/controls",
          "model_module_version": "1.5.0",
          "model_name": "DescriptionStyleModel",
          "state": {
            "_model_module": "@jupyter-widgets/controls",
            "_model_module_version": "1.5.0",
            "_model_name": "DescriptionStyleModel",
            "_view_count": null,
            "_view_module": "@jupyter-widgets/base",
            "_view_module_version": "1.2.0",
            "_view_name": "StyleView",
            "description_width": ""
          }
        },
        "7f3a020b7ae148f1aaca0f30c5e66442": {
          "model_module": "@jupyter-widgets/base",
          "model_module_version": "1.2.0",
          "model_name": "LayoutModel",
          "state": {
            "_model_module": "@jupyter-widgets/base",
            "_model_module_version": "1.2.0",
            "_model_name": "LayoutModel",
            "_view_count": null,
            "_view_module": "@jupyter-widgets/base",
            "_view_module_version": "1.2.0",
            "_view_name": "LayoutView",
            "align_content": null,
            "align_items": null,
            "align_self": null,
            "border": null,
            "bottom": null,
            "display": null,
            "flex": null,
            "flex_flow": null,
            "grid_area": null,
            "grid_auto_columns": null,
            "grid_auto_flow": null,
            "grid_auto_rows": null,
            "grid_column": null,
            "grid_gap": null,
            "grid_row": null,
            "grid_template_areas": null,
            "grid_template_columns": null,
            "grid_template_rows": null,
            "height": null,
            "justify_content": null,
            "justify_items": null,
            "left": null,
            "margin": null,
            "max_height": null,
            "max_width": null,
            "min_height": null,
            "min_width": null,
            "object_fit": null,
            "object_position": null,
            "order": null,
            "overflow": null,
            "overflow_x": null,
            "overflow_y": null,
            "padding": null,
            "right": null,
            "top": null,
            "visibility": null,
            "width": null
          }
        },
        "81ff016c3e2649808e942fe0f6f94444": {
          "model_module": "@jupyter-widgets/controls",
          "model_module_version": "1.5.0",
          "model_name": "HTMLModel",
          "state": {
            "_dom_classes": [],
            "_model_module": "@jupyter-widgets/controls",
            "_model_module_version": "1.5.0",
            "_model_name": "HTMLModel",
            "_view_count": null,
            "_view_module": "@jupyter-widgets/controls",
            "_view_module_version": "1.5.0",
            "_view_name": "HTMLView",
            "description": "",
            "description_tooltip": null,
            "layout": "IPY_MODEL_b3d583e265184ae6bb9fc8d10ef3ba08",
            "placeholder": "​",
            "style": "IPY_MODEL_853aa5af9ad74b4eb32b1ea615706936",
            "value": "Generating train split: 100%"
          }
        },
        "853aa5af9ad74b4eb32b1ea615706936": {
          "model_module": "@jupyter-widgets/controls",
          "model_module_version": "1.5.0",
          "model_name": "DescriptionStyleModel",
          "state": {
            "_model_module": "@jupyter-widgets/controls",
            "_model_module_version": "1.5.0",
            "_model_name": "DescriptionStyleModel",
            "_view_count": null,
            "_view_module": "@jupyter-widgets/base",
            "_view_module_version": "1.2.0",
            "_view_name": "StyleView",
            "description_width": ""
          }
        },
        "9342bf10b54f47d592f73be6cbb3c542": {
          "model_module": "@jupyter-widgets/base",
          "model_module_version": "1.2.0",
          "model_name": "LayoutModel",
          "state": {
            "_model_module": "@jupyter-widgets/base",
            "_model_module_version": "1.2.0",
            "_model_name": "LayoutModel",
            "_view_count": null,
            "_view_module": "@jupyter-widgets/base",
            "_view_module_version": "1.2.0",
            "_view_name": "LayoutView",
            "align_content": null,
            "align_items": null,
            "align_self": null,
            "border": null,
            "bottom": null,
            "display": null,
            "flex": null,
            "flex_flow": null,
            "grid_area": null,
            "grid_auto_columns": null,
            "grid_auto_flow": null,
            "grid_auto_rows": null,
            "grid_column": null,
            "grid_gap": null,
            "grid_row": null,
            "grid_template_areas": null,
            "grid_template_columns": null,
            "grid_template_rows": null,
            "height": null,
            "justify_content": null,
            "justify_items": null,
            "left": null,
            "margin": null,
            "max_height": null,
            "max_width": null,
            "min_height": null,
            "min_width": null,
            "object_fit": null,
            "object_position": null,
            "order": null,
            "overflow": null,
            "overflow_x": null,
            "overflow_y": null,
            "padding": null,
            "right": null,
            "top": null,
            "visibility": null,
            "width": null
          }
        },
        "9b29a0ec4b0e483c8a6db3a4783ab997": {
          "model_module": "@jupyter-widgets/base",
          "model_module_version": "1.2.0",
          "model_name": "LayoutModel",
          "state": {
            "_model_module": "@jupyter-widgets/base",
            "_model_module_version": "1.2.0",
            "_model_name": "LayoutModel",
            "_view_count": null,
            "_view_module": "@jupyter-widgets/base",
            "_view_module_version": "1.2.0",
            "_view_name": "LayoutView",
            "align_content": null,
            "align_items": null,
            "align_self": null,
            "border": null,
            "bottom": null,
            "display": null,
            "flex": null,
            "flex_flow": null,
            "grid_area": null,
            "grid_auto_columns": null,
            "grid_auto_flow": null,
            "grid_auto_rows": null,
            "grid_column": null,
            "grid_gap": null,
            "grid_row": null,
            "grid_template_areas": null,
            "grid_template_columns": null,
            "grid_template_rows": null,
            "height": null,
            "justify_content": null,
            "justify_items": null,
            "left": null,
            "margin": null,
            "max_height": null,
            "max_width": null,
            "min_height": null,
            "min_width": null,
            "object_fit": null,
            "object_position": null,
            "order": null,
            "overflow": null,
            "overflow_x": null,
            "overflow_y": null,
            "padding": null,
            "right": null,
            "top": null,
            "visibility": null,
            "width": null
          }
        },
        "b23bfce2c28e4eb2b2b665c205231988": {
          "model_module": "@jupyter-widgets/controls",
          "model_module_version": "1.5.0",
          "model_name": "FloatProgressModel",
          "state": {
            "_dom_classes": [],
            "_model_module": "@jupyter-widgets/controls",
            "_model_module_version": "1.5.0",
            "_model_name": "FloatProgressModel",
            "_view_count": null,
            "_view_module": "@jupyter-widgets/controls",
            "_view_module_version": "1.5.0",
            "_view_name": "ProgressView",
            "bar_style": "success",
            "description": "",
            "description_tooltip": null,
            "layout": "IPY_MODEL_4afad82155f54cd7ab539e307a03e5bf",
            "max": 268502,
            "min": 0,
            "orientation": "horizontal",
            "style": "IPY_MODEL_216f36b433104913a3403fc1e8e09dc7",
            "value": 268502
          }
        },
        "b3d583e265184ae6bb9fc8d10ef3ba08": {
          "model_module": "@jupyter-widgets/base",
          "model_module_version": "1.2.0",
          "model_name": "LayoutModel",
          "state": {
            "_model_module": "@jupyter-widgets/base",
            "_model_module_version": "1.2.0",
            "_model_name": "LayoutModel",
            "_view_count": null,
            "_view_module": "@jupyter-widgets/base",
            "_view_module_version": "1.2.0",
            "_view_name": "LayoutView",
            "align_content": null,
            "align_items": null,
            "align_self": null,
            "border": null,
            "bottom": null,
            "display": null,
            "flex": null,
            "flex_flow": null,
            "grid_area": null,
            "grid_auto_columns": null,
            "grid_auto_flow": null,
            "grid_auto_rows": null,
            "grid_column": null,
            "grid_gap": null,
            "grid_row": null,
            "grid_template_areas": null,
            "grid_template_columns": null,
            "grid_template_rows": null,
            "height": null,
            "justify_content": null,
            "justify_items": null,
            "left": null,
            "margin": null,
            "max_height": null,
            "max_width": null,
            "min_height": null,
            "min_width": null,
            "object_fit": null,
            "object_position": null,
            "order": null,
            "overflow": null,
            "overflow_x": null,
            "overflow_y": null,
            "padding": null,
            "right": null,
            "top": null,
            "visibility": null,
            "width": null
          }
        },
        "b91ec3ba23bd42d089c8d60f3c562d34": {
          "model_module": "@jupyter-widgets/base",
          "model_module_version": "1.2.0",
          "model_name": "LayoutModel",
          "state": {
            "_model_module": "@jupyter-widgets/base",
            "_model_module_version": "1.2.0",
            "_model_name": "LayoutModel",
            "_view_count": null,
            "_view_module": "@jupyter-widgets/base",
            "_view_module_version": "1.2.0",
            "_view_name": "LayoutView",
            "align_content": null,
            "align_items": null,
            "align_self": null,
            "border": null,
            "bottom": null,
            "display": null,
            "flex": null,
            "flex_flow": null,
            "grid_area": null,
            "grid_auto_columns": null,
            "grid_auto_flow": null,
            "grid_auto_rows": null,
            "grid_column": null,
            "grid_gap": null,
            "grid_row": null,
            "grid_template_areas": null,
            "grid_template_columns": null,
            "grid_template_rows": null,
            "height": null,
            "justify_content": null,
            "justify_items": null,
            "left": null,
            "margin": null,
            "max_height": null,
            "max_width": null,
            "min_height": null,
            "min_width": null,
            "object_fit": null,
            "object_position": null,
            "order": null,
            "overflow": null,
            "overflow_x": null,
            "overflow_y": null,
            "padding": null,
            "right": null,
            "top": null,
            "visibility": null,
            "width": null
          }
        },
        "ef8c7ee188d54883b37446b1cb65d864": {
          "model_module": "@jupyter-widgets/controls",
          "model_module_version": "1.5.0",
          "model_name": "FloatProgressModel",
          "state": {
            "_dom_classes": [],
            "_model_module": "@jupyter-widgets/controls",
            "_model_module_version": "1.5.0",
            "_model_name": "FloatProgressModel",
            "_view_count": null,
            "_view_module": "@jupyter-widgets/controls",
            "_view_module_version": "1.5.0",
            "_view_name": "ProgressView",
            "bar_style": "success",
            "description": "",
            "description_tooltip": null,
            "layout": "IPY_MODEL_b91ec3ba23bd42d089c8d60f3c562d34",
            "max": 3453,
            "min": 0,
            "orientation": "horizontal",
            "style": "IPY_MODEL_5b92bea3e13143548a073d65c9facf3b",
            "value": 3453
          }
        }
      }
    }
  },
  "nbformat": 4,
  "nbformat_minor": 0
}